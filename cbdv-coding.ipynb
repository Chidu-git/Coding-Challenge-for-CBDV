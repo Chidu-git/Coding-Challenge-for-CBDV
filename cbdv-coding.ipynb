{
 "cells": [
  {
   "cell_type": "code",
   "execution_count": 1,
   "metadata": {},
   "outputs": [
    {
     "name": "stderr",
     "output_type": "stream",
     "text": [
      "NumExpr defaulting to 4 threads.\n"
     ]
    },
    {
     "data": {
      "application/javascript": [
       "\n",
       "(function(root) {\n",
       "  function now() {\n",
       "    return new Date();\n",
       "  }\n",
       "\n",
       "  var force = true;\n",
       "\n",
       "  if (typeof root._bokeh_onload_callbacks === \"undefined\" || force === true) {\n",
       "    root._bokeh_onload_callbacks = [];\n",
       "    root._bokeh_is_loading = undefined;\n",
       "  }\n",
       "\n",
       "  var JS_MIME_TYPE = 'application/javascript';\n",
       "  var HTML_MIME_TYPE = 'text/html';\n",
       "  var EXEC_MIME_TYPE = 'application/vnd.bokehjs_exec.v0+json';\n",
       "  var CLASS_NAME = 'output_bokeh rendered_html';\n",
       "\n",
       "  /**\n",
       "   * Render data to the DOM node\n",
       "   */\n",
       "  function render(props, node) {\n",
       "    var script = document.createElement(\"script\");\n",
       "    node.appendChild(script);\n",
       "  }\n",
       "\n",
       "  /**\n",
       "   * Handle when an output is cleared or removed\n",
       "   */\n",
       "  function handleClearOutput(event, handle) {\n",
       "    var cell = handle.cell;\n",
       "\n",
       "    var id = cell.output_area._bokeh_element_id;\n",
       "    var server_id = cell.output_area._bokeh_server_id;\n",
       "    // Clean up Bokeh references\n",
       "    if (id != null && id in Bokeh.index) {\n",
       "      Bokeh.index[id].model.document.clear();\n",
       "      delete Bokeh.index[id];\n",
       "    }\n",
       "\n",
       "    if (server_id !== undefined) {\n",
       "      // Clean up Bokeh references\n",
       "      var cmd = \"from bokeh.io.state import curstate; print(curstate().uuid_to_server['\" + server_id + \"'].get_sessions()[0].document.roots[0]._id)\";\n",
       "      cell.notebook.kernel.execute(cmd, {\n",
       "        iopub: {\n",
       "          output: function(msg) {\n",
       "            var id = msg.content.text.trim();\n",
       "            if (id in Bokeh.index) {\n",
       "              Bokeh.index[id].model.document.clear();\n",
       "              delete Bokeh.index[id];\n",
       "            }\n",
       "          }\n",
       "        }\n",
       "      });\n",
       "      // Destroy server and session\n",
       "      var cmd = \"import bokeh.io.notebook as ion; ion.destroy_server('\" + server_id + \"')\";\n",
       "      cell.notebook.kernel.execute(cmd);\n",
       "    }\n",
       "  }\n",
       "\n",
       "  /**\n",
       "   * Handle when a new output is added\n",
       "   */\n",
       "  function handleAddOutput(event, handle) {\n",
       "    var output_area = handle.output_area;\n",
       "    var output = handle.output;\n",
       "\n",
       "    // limit handleAddOutput to display_data with EXEC_MIME_TYPE content only\n",
       "    if ((output.output_type != \"display_data\") || (!output.data.hasOwnProperty(EXEC_MIME_TYPE))) {\n",
       "      return\n",
       "    }\n",
       "\n",
       "    var toinsert = output_area.element.find(\".\" + CLASS_NAME.split(' ')[0]);\n",
       "\n",
       "    if (output.metadata[EXEC_MIME_TYPE][\"id\"] !== undefined) {\n",
       "      toinsert[toinsert.length - 1].firstChild.textContent = output.data[JS_MIME_TYPE];\n",
       "      // store reference to embed id on output_area\n",
       "      output_area._bokeh_element_id = output.metadata[EXEC_MIME_TYPE][\"id\"];\n",
       "    }\n",
       "    if (output.metadata[EXEC_MIME_TYPE][\"server_id\"] !== undefined) {\n",
       "      var bk_div = document.createElement(\"div\");\n",
       "      bk_div.innerHTML = output.data[HTML_MIME_TYPE];\n",
       "      var script_attrs = bk_div.children[0].attributes;\n",
       "      for (var i = 0; i < script_attrs.length; i++) {\n",
       "        toinsert[toinsert.length - 1].firstChild.setAttribute(script_attrs[i].name, script_attrs[i].value);\n",
       "      }\n",
       "      // store reference to server id on output_area\n",
       "      output_area._bokeh_server_id = output.metadata[EXEC_MIME_TYPE][\"server_id\"];\n",
       "    }\n",
       "  }\n",
       "\n",
       "  function register_renderer(events, OutputArea) {\n",
       "\n",
       "    function append_mime(data, metadata, element) {\n",
       "      // create a DOM node to render to\n",
       "      var toinsert = this.create_output_subarea(\n",
       "        metadata,\n",
       "        CLASS_NAME,\n",
       "        EXEC_MIME_TYPE\n",
       "      );\n",
       "      this.keyboard_manager.register_events(toinsert);\n",
       "      // Render to node\n",
       "      var props = {data: data, metadata: metadata[EXEC_MIME_TYPE]};\n",
       "      render(props, toinsert[toinsert.length - 1]);\n",
       "      element.append(toinsert);\n",
       "      return toinsert\n",
       "    }\n",
       "\n",
       "    /* Handle when an output is cleared or removed */\n",
       "    events.on('clear_output.CodeCell', handleClearOutput);\n",
       "    events.on('delete.Cell', handleClearOutput);\n",
       "\n",
       "    /* Handle when a new output is added */\n",
       "    events.on('output_added.OutputArea', handleAddOutput);\n",
       "\n",
       "    /**\n",
       "     * Register the mime type and append_mime function with output_area\n",
       "     */\n",
       "    OutputArea.prototype.register_mime_type(EXEC_MIME_TYPE, append_mime, {\n",
       "      /* Is output safe? */\n",
       "      safe: true,\n",
       "      /* Index of renderer in `output_area.display_order` */\n",
       "      index: 0\n",
       "    });\n",
       "  }\n",
       "\n",
       "  // register the mime type if in Jupyter Notebook environment and previously unregistered\n",
       "  if (root.Jupyter !== undefined) {\n",
       "    var events = require('base/js/events');\n",
       "    var OutputArea = require('notebook/js/outputarea').OutputArea;\n",
       "\n",
       "    if (OutputArea.prototype.mime_types().indexOf(EXEC_MIME_TYPE) == -1) {\n",
       "      register_renderer(events, OutputArea);\n",
       "    }\n",
       "  }\n",
       "\n",
       "  \n",
       "  if (typeof (root._bokeh_timeout) === \"undefined\" || force === true) {\n",
       "    root._bokeh_timeout = Date.now() + 5000;\n",
       "    root._bokeh_failed_load = false;\n",
       "  }\n",
       "\n",
       "  var NB_LOAD_WARNING = {'data': {'text/html':\n",
       "     \"<div style='background-color: #fdd'>\\n\"+\n",
       "     \"<p>\\n\"+\n",
       "     \"BokehJS does not appear to have successfully loaded. If loading BokehJS from CDN, this \\n\"+\n",
       "     \"may be due to a slow or bad network connection. Possible fixes:\\n\"+\n",
       "     \"</p>\\n\"+\n",
       "     \"<ul>\\n\"+\n",
       "     \"<li>re-rerun `output_notebook()` to attempt to load from CDN again, or</li>\\n\"+\n",
       "     \"<li>use INLINE resources instead, as so:</li>\\n\"+\n",
       "     \"</ul>\\n\"+\n",
       "     \"<code>\\n\"+\n",
       "     \"from bokeh.resources import INLINE\\n\"+\n",
       "     \"output_notebook(resources=INLINE)\\n\"+\n",
       "     \"</code>\\n\"+\n",
       "     \"</div>\"}};\n",
       "\n",
       "  function display_loaded() {\n",
       "    var el = document.getElementById(null);\n",
       "    if (el != null) {\n",
       "      el.textContent = \"BokehJS is loading...\";\n",
       "    }\n",
       "    if (root.Bokeh !== undefined) {\n",
       "      if (el != null) {\n",
       "        el.textContent = \"BokehJS \" + root.Bokeh.version + \" successfully loaded.\";\n",
       "      }\n",
       "    } else if (Date.now() < root._bokeh_timeout) {\n",
       "      setTimeout(display_loaded, 100)\n",
       "    }\n",
       "  }\n",
       "\n",
       "\n",
       "  function run_callbacks() {\n",
       "    try {\n",
       "      root._bokeh_onload_callbacks.forEach(function(callback) {\n",
       "        if (callback != null)\n",
       "          callback();\n",
       "      });\n",
       "    } finally {\n",
       "      delete root._bokeh_onload_callbacks\n",
       "    }\n",
       "    console.debug(\"Bokeh: all callbacks have finished\");\n",
       "  }\n",
       "\n",
       "  function load_libs(css_urls, js_urls, callback) {\n",
       "    if (css_urls == null) css_urls = [];\n",
       "    if (js_urls == null) js_urls = [];\n",
       "\n",
       "    root._bokeh_onload_callbacks.push(callback);\n",
       "    if (root._bokeh_is_loading > 0) {\n",
       "      console.debug(\"Bokeh: BokehJS is being loaded, scheduling callback at\", now());\n",
       "      return null;\n",
       "    }\n",
       "    if (js_urls == null || js_urls.length === 0) {\n",
       "      run_callbacks();\n",
       "      return null;\n",
       "    }\n",
       "    console.debug(\"Bokeh: BokehJS not loaded, scheduling load and callback at\", now());\n",
       "    root._bokeh_is_loading = css_urls.length + js_urls.length;\n",
       "\n",
       "    function on_load() {\n",
       "      root._bokeh_is_loading--;\n",
       "      if (root._bokeh_is_loading === 0) {\n",
       "        console.debug(\"Bokeh: all BokehJS libraries/stylesheets loaded\");\n",
       "        run_callbacks()\n",
       "      }\n",
       "    }\n",
       "\n",
       "    function on_error() {\n",
       "      console.error(\"failed to load \" + url);\n",
       "    }\n",
       "\n",
       "    for (var i = 0; i < css_urls.length; i++) {\n",
       "      var url = css_urls[i];\n",
       "      const element = document.createElement(\"link\");\n",
       "      element.onload = on_load;\n",
       "      element.onerror = on_error;\n",
       "      element.rel = \"stylesheet\";\n",
       "      element.type = \"text/css\";\n",
       "      element.href = url;\n",
       "      console.debug(\"Bokeh: injecting link tag for BokehJS stylesheet: \", url);\n",
       "      document.body.appendChild(element);\n",
       "    }\n",
       "\n",
       "    for (var i = 0; i < js_urls.length; i++) {\n",
       "      var url = js_urls[i];\n",
       "      var element = document.createElement('script');\n",
       "      element.onload = on_load;\n",
       "      element.onerror = on_error;\n",
       "      element.async = false;\n",
       "      element.src = url;\n",
       "      console.debug(\"Bokeh: injecting script tag for BokehJS library: \", url);\n",
       "      document.head.appendChild(element);\n",
       "    }\n",
       "  };\n",
       "\n",
       "  function inject_raw_css(css) {\n",
       "    const element = document.createElement(\"style\");\n",
       "    element.appendChild(document.createTextNode(css));\n",
       "    document.body.appendChild(element);\n",
       "  }\n",
       "\n",
       "  \n",
       "  var js_urls = [\"https://cdn.pydata.org/bokeh/release/bokeh-1.4.0.min.js\", \"https://cdn.pydata.org/bokeh/release/bokeh-widgets-1.4.0.min.js\", \"https://cdn.pydata.org/bokeh/release/bokeh-tables-1.4.0.min.js\", \"https://cdn.pydata.org/bokeh/release/bokeh-gl-1.4.0.min.js\"];\n",
       "  var css_urls = [];\n",
       "  \n",
       "\n",
       "  var inline_js = [\n",
       "    function(Bokeh) {\n",
       "      Bokeh.set_log_level(\"info\");\n",
       "    },\n",
       "    function(Bokeh) {\n",
       "    \n",
       "    \n",
       "    }\n",
       "  ];\n",
       "\n",
       "  function run_inline_js() {\n",
       "    \n",
       "    if (root.Bokeh !== undefined || force === true) {\n",
       "      \n",
       "    for (var i = 0; i < inline_js.length; i++) {\n",
       "      inline_js[i].call(root, root.Bokeh);\n",
       "    }\n",
       "    } else if (Date.now() < root._bokeh_timeout) {\n",
       "      setTimeout(run_inline_js, 100);\n",
       "    } else if (!root._bokeh_failed_load) {\n",
       "      console.log(\"Bokeh: BokehJS failed to load within specified timeout.\");\n",
       "      root._bokeh_failed_load = true;\n",
       "    } else if (force !== true) {\n",
       "      var cell = $(document.getElementById(null)).parents('.cell').data().cell;\n",
       "      cell.output_area.append_execute_result(NB_LOAD_WARNING)\n",
       "    }\n",
       "\n",
       "  }\n",
       "\n",
       "  if (root._bokeh_is_loading === 0) {\n",
       "    console.debug(\"Bokeh: BokehJS loaded, going straight to plotting\");\n",
       "    run_inline_js();\n",
       "  } else {\n",
       "    load_libs(css_urls, js_urls, function() {\n",
       "      console.debug(\"Bokeh: BokehJS plotting callback run at\", now());\n",
       "      run_inline_js();\n",
       "    });\n",
       "  }\n",
       "}(window));"
      ],
      "application/vnd.bokehjs_load.v0+json": "\n(function(root) {\n  function now() {\n    return new Date();\n  }\n\n  var force = true;\n\n  if (typeof root._bokeh_onload_callbacks === \"undefined\" || force === true) {\n    root._bokeh_onload_callbacks = [];\n    root._bokeh_is_loading = undefined;\n  }\n\n  \n\n  \n  if (typeof (root._bokeh_timeout) === \"undefined\" || force === true) {\n    root._bokeh_timeout = Date.now() + 5000;\n    root._bokeh_failed_load = false;\n  }\n\n  var NB_LOAD_WARNING = {'data': {'text/html':\n     \"<div style='background-color: #fdd'>\\n\"+\n     \"<p>\\n\"+\n     \"BokehJS does not appear to have successfully loaded. If loading BokehJS from CDN, this \\n\"+\n     \"may be due to a slow or bad network connection. Possible fixes:\\n\"+\n     \"</p>\\n\"+\n     \"<ul>\\n\"+\n     \"<li>re-rerun `output_notebook()` to attempt to load from CDN again, or</li>\\n\"+\n     \"<li>use INLINE resources instead, as so:</li>\\n\"+\n     \"</ul>\\n\"+\n     \"<code>\\n\"+\n     \"from bokeh.resources import INLINE\\n\"+\n     \"output_notebook(resources=INLINE)\\n\"+\n     \"</code>\\n\"+\n     \"</div>\"}};\n\n  function display_loaded() {\n    var el = document.getElementById(null);\n    if (el != null) {\n      el.textContent = \"BokehJS is loading...\";\n    }\n    if (root.Bokeh !== undefined) {\n      if (el != null) {\n        el.textContent = \"BokehJS \" + root.Bokeh.version + \" successfully loaded.\";\n      }\n    } else if (Date.now() < root._bokeh_timeout) {\n      setTimeout(display_loaded, 100)\n    }\n  }\n\n\n  function run_callbacks() {\n    try {\n      root._bokeh_onload_callbacks.forEach(function(callback) {\n        if (callback != null)\n          callback();\n      });\n    } finally {\n      delete root._bokeh_onload_callbacks\n    }\n    console.debug(\"Bokeh: all callbacks have finished\");\n  }\n\n  function load_libs(css_urls, js_urls, callback) {\n    if (css_urls == null) css_urls = [];\n    if (js_urls == null) js_urls = [];\n\n    root._bokeh_onload_callbacks.push(callback);\n    if (root._bokeh_is_loading > 0) {\n      console.debug(\"Bokeh: BokehJS is being loaded, scheduling callback at\", now());\n      return null;\n    }\n    if (js_urls == null || js_urls.length === 0) {\n      run_callbacks();\n      return null;\n    }\n    console.debug(\"Bokeh: BokehJS not loaded, scheduling load and callback at\", now());\n    root._bokeh_is_loading = css_urls.length + js_urls.length;\n\n    function on_load() {\n      root._bokeh_is_loading--;\n      if (root._bokeh_is_loading === 0) {\n        console.debug(\"Bokeh: all BokehJS libraries/stylesheets loaded\");\n        run_callbacks()\n      }\n    }\n\n    function on_error() {\n      console.error(\"failed to load \" + url);\n    }\n\n    for (var i = 0; i < css_urls.length; i++) {\n      var url = css_urls[i];\n      const element = document.createElement(\"link\");\n      element.onload = on_load;\n      element.onerror = on_error;\n      element.rel = \"stylesheet\";\n      element.type = \"text/css\";\n      element.href = url;\n      console.debug(\"Bokeh: injecting link tag for BokehJS stylesheet: \", url);\n      document.body.appendChild(element);\n    }\n\n    for (var i = 0; i < js_urls.length; i++) {\n      var url = js_urls[i];\n      var element = document.createElement('script');\n      element.onload = on_load;\n      element.onerror = on_error;\n      element.async = false;\n      element.src = url;\n      console.debug(\"Bokeh: injecting script tag for BokehJS library: \", url);\n      document.head.appendChild(element);\n    }\n  };\n\n  function inject_raw_css(css) {\n    const element = document.createElement(\"style\");\n    element.appendChild(document.createTextNode(css));\n    document.body.appendChild(element);\n  }\n\n  \n  var js_urls = [\"https://cdn.pydata.org/bokeh/release/bokeh-1.4.0.min.js\", \"https://cdn.pydata.org/bokeh/release/bokeh-widgets-1.4.0.min.js\", \"https://cdn.pydata.org/bokeh/release/bokeh-tables-1.4.0.min.js\", \"https://cdn.pydata.org/bokeh/release/bokeh-gl-1.4.0.min.js\"];\n  var css_urls = [];\n  \n\n  var inline_js = [\n    function(Bokeh) {\n      Bokeh.set_log_level(\"info\");\n    },\n    function(Bokeh) {\n    \n    \n    }\n  ];\n\n  function run_inline_js() {\n    \n    if (root.Bokeh !== undefined || force === true) {\n      \n    for (var i = 0; i < inline_js.length; i++) {\n      inline_js[i].call(root, root.Bokeh);\n    }\n    } else if (Date.now() < root._bokeh_timeout) {\n      setTimeout(run_inline_js, 100);\n    } else if (!root._bokeh_failed_load) {\n      console.log(\"Bokeh: BokehJS failed to load within specified timeout.\");\n      root._bokeh_failed_load = true;\n    } else if (force !== true) {\n      var cell = $(document.getElementById(null)).parents('.cell').data().cell;\n      cell.output_area.append_execute_result(NB_LOAD_WARNING)\n    }\n\n  }\n\n  if (root._bokeh_is_loading === 0) {\n    console.debug(\"Bokeh: BokehJS loaded, going straight to plotting\");\n    run_inline_js();\n  } else {\n    load_libs(css_urls, js_urls, function() {\n      console.debug(\"Bokeh: BokehJS plotting callback run at\", now());\n      run_inline_js();\n    });\n  }\n}(window));"
     },
     "metadata": {},
     "output_type": "display_data"
    }
   ],
   "source": [
    "import pandas as pd\n",
    "import numpy as np\n",
    "import random\n",
    "from dataprep.eda import plot\n",
    "\n",
    "import matplotlib.pyplot as plt\n",
    "import seaborn as sns\n",
    "\n",
    "from scipy import stats"
   ]
  },
  {
   "cell_type": "code",
   "execution_count": 2,
   "metadata": {},
   "outputs": [],
   "source": [
    "#Reading the dataset into pandas\n",
    "data=pd.read_excel(\"Take Home Dataset.xlsx\")"
   ]
  },
  {
   "cell_type": "code",
   "execution_count": 3,
   "metadata": {},
   "outputs": [
    {
     "data": {
      "text/plain": [
       "(282, 6)"
      ]
     },
     "execution_count": 3,
     "metadata": {},
     "output_type": "execute_result"
    }
   ],
   "source": [
    "#size of the dataset\n",
    "data.shape"
   ]
  },
  {
   "cell_type": "code",
   "execution_count": 4,
   "metadata": {},
   "outputs": [
    {
     "name": "stdout",
     "output_type": "stream",
     "text": [
      "<class 'pandas.core.frame.DataFrame'>\n",
      "RangeIndex: 282 entries, 0 to 281\n",
      "Data columns (total 6 columns):\n",
      "extractorName               282 non-null object\n",
      "input_runTime(min)          280 non-null float64\n",
      "input_netCannabinoids(%)    279 non-null float64\n",
      "output_cannabinoids(%)      277 non-null float64\n",
      "pressure(bar)               279 non-null float64\n",
      "temperature(C)              279 non-null float64\n",
      "dtypes: float64(5), object(1)\n",
      "memory usage: 13.3+ KB\n"
     ]
    }
   ],
   "source": [
    "# printing the concise summary of the dataframe\n",
    "data.info()"
   ]
  },
  {
   "cell_type": "code",
   "execution_count": 5,
   "metadata": {},
   "outputs": [
    {
     "name": "stdout",
     "output_type": "stream",
     "text": [
      "extractorName: 0.0%\n",
      "input_runTime(min): 0.7092198581560284%\n",
      "input_netCannabinoids(%): 1.0638297872340425%\n",
      "output_cannabinoids(%): 1.7730496453900708%\n",
      "pressure(bar): 1.0638297872340425%\n",
      "temperature(C): 1.0638297872340425%\n"
     ]
    }
   ],
   "source": [
    "#printing the missing values in the columns\n",
    "\n",
    "def missing_value_percent(data, column_name):\n",
    "    row_count = data[column_name].shape[0]\n",
    "    empty_values = row_count - data[column_name].count()\n",
    "    return (100.0*empty_values)/row_count\n",
    "for i in list(data):\n",
    "    print(i +': ' + str(missing_value_percent(data,i))+'%') "
   ]
  },
  {
   "cell_type": "code",
   "execution_count": 6,
   "metadata": {},
   "outputs": [],
   "source": [
    "# Replacing the empty spaces if present with Null types\n",
    "data = data.replace(r'^\\s*$', np.nan, regex=True)"
   ]
  },
  {
   "cell_type": "code",
   "execution_count": 7,
   "metadata": {},
   "outputs": [
    {
     "data": {
      "text/plain": [
       "extractorName               0\n",
       "input_runTime(min)          2\n",
       "input_netCannabinoids(%)    3\n",
       "output_cannabinoids(%)      5\n",
       "pressure(bar)               3\n",
       "temperature(C)              3\n",
       "dtype: int64"
      ]
     },
     "execution_count": 7,
     "metadata": {},
     "output_type": "execute_result"
    }
   ],
   "source": [
    "#finding all the null values in the feature columns\n",
    "data.isnull().sum()"
   ]
  },
  {
   "cell_type": "code",
   "execution_count": 8,
   "metadata": {},
   "outputs": [
    {
     "data": {
      "text/html": [
       "<div>\n",
       "<style scoped>\n",
       "    .dataframe tbody tr th:only-of-type {\n",
       "        vertical-align: middle;\n",
       "    }\n",
       "\n",
       "    .dataframe tbody tr th {\n",
       "        vertical-align: top;\n",
       "    }\n",
       "\n",
       "    .dataframe thead th {\n",
       "        text-align: right;\n",
       "    }\n",
       "</style>\n",
       "<table border=\"1\" class=\"dataframe\">\n",
       "  <thead>\n",
       "    <tr style=\"text-align: right;\">\n",
       "      <th></th>\n",
       "      <th>extractorName</th>\n",
       "      <th>input_runTime(min)</th>\n",
       "      <th>input_netCannabinoids(%)</th>\n",
       "      <th>output_cannabinoids(%)</th>\n",
       "      <th>pressure(bar)</th>\n",
       "      <th>temperature(C)</th>\n",
       "    </tr>\n",
       "  </thead>\n",
       "  <tbody>\n",
       "    <tr>\n",
       "      <th>0</th>\n",
       "      <td>Extrakt A</td>\n",
       "      <td>100.0</td>\n",
       "      <td>17.7200</td>\n",
       "      <td>52.866274</td>\n",
       "      <td>345.264957</td>\n",
       "      <td>75.542857</td>\n",
       "    </tr>\n",
       "    <tr>\n",
       "      <th>1</th>\n",
       "      <td>Extrakt A</td>\n",
       "      <td>151.0</td>\n",
       "      <td>17.7200</td>\n",
       "      <td>78.422278</td>\n",
       "      <td>346.806428</td>\n",
       "      <td>81.550000</td>\n",
       "    </tr>\n",
       "    <tr>\n",
       "      <th>2</th>\n",
       "      <td>Extrakt A</td>\n",
       "      <td>99.0</td>\n",
       "      <td>16.1580</td>\n",
       "      <td>64.067291</td>\n",
       "      <td>347.742145</td>\n",
       "      <td>75.214286</td>\n",
       "    </tr>\n",
       "    <tr>\n",
       "      <th>3</th>\n",
       "      <td>Extrakt A</td>\n",
       "      <td>96.0</td>\n",
       "      <td>17.7200</td>\n",
       "      <td>52.545082</td>\n",
       "      <td>345.821462</td>\n",
       "      <td>60.142857</td>\n",
       "    </tr>\n",
       "    <tr>\n",
       "      <th>4</th>\n",
       "      <td>Extrakt A</td>\n",
       "      <td>93.0</td>\n",
       "      <td>15.3400</td>\n",
       "      <td>67.794228</td>\n",
       "      <td>346.264697</td>\n",
       "      <td>72.600000</td>\n",
       "    </tr>\n",
       "    <tr>\n",
       "      <th>...</th>\n",
       "      <td>...</td>\n",
       "      <td>...</td>\n",
       "      <td>...</td>\n",
       "      <td>...</td>\n",
       "      <td>...</td>\n",
       "      <td>...</td>\n",
       "    </tr>\n",
       "    <tr>\n",
       "      <th>277</th>\n",
       "      <td>EXT-100</td>\n",
       "      <td>80.0</td>\n",
       "      <td>9.8424</td>\n",
       "      <td>68.293121</td>\n",
       "      <td>350.000000</td>\n",
       "      <td>55.000000</td>\n",
       "    </tr>\n",
       "    <tr>\n",
       "      <th>278</th>\n",
       "      <td>EXT-100</td>\n",
       "      <td>70.0</td>\n",
       "      <td>11.6520</td>\n",
       "      <td>64.759811</td>\n",
       "      <td>350.000000</td>\n",
       "      <td>55.000000</td>\n",
       "    </tr>\n",
       "    <tr>\n",
       "      <th>279</th>\n",
       "      <td>EXT-100</td>\n",
       "      <td>70.0</td>\n",
       "      <td>9.8424</td>\n",
       "      <td>55.082794</td>\n",
       "      <td>350.000000</td>\n",
       "      <td>55.000000</td>\n",
       "    </tr>\n",
       "    <tr>\n",
       "      <th>280</th>\n",
       "      <td>EXT-100</td>\n",
       "      <td>70.0</td>\n",
       "      <td>12.1010</td>\n",
       "      <td>70.873186</td>\n",
       "      <td>350.000000</td>\n",
       "      <td>55.000000</td>\n",
       "    </tr>\n",
       "    <tr>\n",
       "      <th>281</th>\n",
       "      <td>EXT-100</td>\n",
       "      <td>70.0</td>\n",
       "      <td>12.1010</td>\n",
       "      <td>70.655477</td>\n",
       "      <td>350.000000</td>\n",
       "      <td>55.000000</td>\n",
       "    </tr>\n",
       "  </tbody>\n",
       "</table>\n",
       "<p>282 rows × 6 columns</p>\n",
       "</div>"
      ],
      "text/plain": [
       "    extractorName  input_runTime(min)  input_netCannabinoids(%)  \\\n",
       "0       Extrakt A               100.0                   17.7200   \n",
       "1       Extrakt A               151.0                   17.7200   \n",
       "2       Extrakt A                99.0                   16.1580   \n",
       "3       Extrakt A                96.0                   17.7200   \n",
       "4       Extrakt A                93.0                   15.3400   \n",
       "..            ...                 ...                       ...   \n",
       "277       EXT-100                80.0                    9.8424   \n",
       "278       EXT-100                70.0                   11.6520   \n",
       "279       EXT-100                70.0                    9.8424   \n",
       "280       EXT-100                70.0                   12.1010   \n",
       "281       EXT-100                70.0                   12.1010   \n",
       "\n",
       "     output_cannabinoids(%)  pressure(bar)  temperature(C)  \n",
       "0                 52.866274     345.264957       75.542857  \n",
       "1                 78.422278     346.806428       81.550000  \n",
       "2                 64.067291     347.742145       75.214286  \n",
       "3                 52.545082     345.821462       60.142857  \n",
       "4                 67.794228     346.264697       72.600000  \n",
       "..                      ...            ...             ...  \n",
       "277               68.293121     350.000000       55.000000  \n",
       "278               64.759811     350.000000       55.000000  \n",
       "279               55.082794     350.000000       55.000000  \n",
       "280               70.873186     350.000000       55.000000  \n",
       "281               70.655477     350.000000       55.000000  \n",
       "\n",
       "[282 rows x 6 columns]"
      ]
     },
     "execution_count": 8,
     "metadata": {},
     "output_type": "execute_result"
    }
   ],
   "source": [
    "data"
   ]
  },
  {
   "cell_type": "code",
   "execution_count": 9,
   "metadata": {},
   "outputs": [
    {
     "data": {
      "text/html": [
       "<div>\n",
       "<style scoped>\n",
       "    .dataframe tbody tr th:only-of-type {\n",
       "        vertical-align: middle;\n",
       "    }\n",
       "\n",
       "    .dataframe tbody tr th {\n",
       "        vertical-align: top;\n",
       "    }\n",
       "\n",
       "    .dataframe thead th {\n",
       "        text-align: right;\n",
       "    }\n",
       "</style>\n",
       "<table border=\"1\" class=\"dataframe\">\n",
       "  <thead>\n",
       "    <tr style=\"text-align: right;\">\n",
       "      <th></th>\n",
       "      <th>input_runTime(min)</th>\n",
       "      <th>input_netCannabinoids(%)</th>\n",
       "      <th>output_cannabinoids(%)</th>\n",
       "      <th>pressure(bar)</th>\n",
       "      <th>temperature(C)</th>\n",
       "    </tr>\n",
       "  </thead>\n",
       "  <tbody>\n",
       "    <tr>\n",
       "      <th>count</th>\n",
       "      <td>280.000000</td>\n",
       "      <td>279.000000</td>\n",
       "      <td>277.000000</td>\n",
       "      <td>279.000000</td>\n",
       "      <td>279.000000</td>\n",
       "    </tr>\n",
       "    <tr>\n",
       "      <th>mean</th>\n",
       "      <td>126.628571</td>\n",
       "      <td>13.645493</td>\n",
       "      <td>62.967924</td>\n",
       "      <td>321.442332</td>\n",
       "      <td>56.818547</td>\n",
       "    </tr>\n",
       "    <tr>\n",
       "      <th>std</th>\n",
       "      <td>172.805725</td>\n",
       "      <td>3.114022</td>\n",
       "      <td>11.986393</td>\n",
       "      <td>70.804941</td>\n",
       "      <td>6.979079</td>\n",
       "    </tr>\n",
       "    <tr>\n",
       "      <th>min</th>\n",
       "      <td>70.000000</td>\n",
       "      <td>7.398000</td>\n",
       "      <td>4.141176</td>\n",
       "      <td>86.460290</td>\n",
       "      <td>33.777780</td>\n",
       "    </tr>\n",
       "    <tr>\n",
       "      <th>25%</th>\n",
       "      <td>70.000000</td>\n",
       "      <td>11.652000</td>\n",
       "      <td>57.931007</td>\n",
       "      <td>346.855676</td>\n",
       "      <td>55.000000</td>\n",
       "    </tr>\n",
       "    <tr>\n",
       "      <th>50%</th>\n",
       "      <td>75.000000</td>\n",
       "      <td>12.958000</td>\n",
       "      <td>66.519506</td>\n",
       "      <td>350.000000</td>\n",
       "      <td>55.000000</td>\n",
       "    </tr>\n",
       "    <tr>\n",
       "      <th>75%</th>\n",
       "      <td>80.000000</td>\n",
       "      <td>16.759000</td>\n",
       "      <td>70.272448</td>\n",
       "      <td>350.000000</td>\n",
       "      <td>55.000000</td>\n",
       "    </tr>\n",
       "    <tr>\n",
       "      <th>max</th>\n",
       "      <td>1320.000000</td>\n",
       "      <td>18.411000</td>\n",
       "      <td>88.966677</td>\n",
       "      <td>350.000000</td>\n",
       "      <td>81.550000</td>\n",
       "    </tr>\n",
       "  </tbody>\n",
       "</table>\n",
       "</div>"
      ],
      "text/plain": [
       "       input_runTime(min)  input_netCannabinoids(%)  output_cannabinoids(%)  \\\n",
       "count          280.000000                279.000000              277.000000   \n",
       "mean           126.628571                 13.645493               62.967924   \n",
       "std            172.805725                  3.114022               11.986393   \n",
       "min             70.000000                  7.398000                4.141176   \n",
       "25%             70.000000                 11.652000               57.931007   \n",
       "50%             75.000000                 12.958000               66.519506   \n",
       "75%             80.000000                 16.759000               70.272448   \n",
       "max           1320.000000                 18.411000               88.966677   \n",
       "\n",
       "       pressure(bar)  temperature(C)  \n",
       "count     279.000000      279.000000  \n",
       "mean      321.442332       56.818547  \n",
       "std        70.804941        6.979079  \n",
       "min        86.460290       33.777780  \n",
       "25%       346.855676       55.000000  \n",
       "50%       350.000000       55.000000  \n",
       "75%       350.000000       55.000000  \n",
       "max       350.000000       81.550000  "
      ]
     },
     "execution_count": 9,
     "metadata": {},
     "output_type": "execute_result"
    }
   ],
   "source": [
    "data.describe()"
   ]
  },
  {
   "cell_type": "markdown",
   "metadata": {},
   "source": [
    "The above table shows the descriptive statistics of the dataset provided. However the distribution and dispersion of data is not clear from the table. Hence the exploratory data analysis(EDA) to get the insights from the data."
   ]
  },
  {
   "cell_type": "code",
   "execution_count": 10,
   "metadata": {},
   "outputs": [],
   "source": [
    "#Exploratory Data Analysis using Dataprep\n",
    "plot(data);"
   ]
  },
  {
   "cell_type": "markdown",
   "metadata": {},
   "source": [
    "<b> Following is the EDA for individual extractor name "
   ]
  },
  {
   "cell_type": "code",
   "execution_count": 11,
   "metadata": {},
   "outputs": [
    {
     "data": {
      "text/plain": [
       "<matplotlib.axes._subplots.AxesSubplot at 0x7fb1f565c5d0>"
      ]
     },
     "execution_count": 11,
     "metadata": {},
     "output_type": "execute_result"
    },
    {
     "data": {
      "image/png": "[encoded data removed]",
      "text/plain": [
       "<Figure size 432x288 with 1 Axes>"
      ]
     },
     "metadata": {
      "needs_background": "light"
     },
     "output_type": "display_data"
    }
   ],
   "source": [
    "sns.barplot(x='extractorName', y= 'input_runTime(min)', data = data)"
   ]
  },
  {
   "cell_type": "markdown",
   "metadata": {},
   "source": [
    "From the above plot we see that the input run time is maximum for Eden extractor."
   ]
  },
  {
   "cell_type": "code",
   "execution_count": 12,
   "metadata": {},
   "outputs": [
    {
     "data": {
      "text/plain": [
       "<matplotlib.axes._subplots.AxesSubplot at 0x7fb1f404c690>"
      ]
     },
     "execution_count": 12,
     "metadata": {},
     "output_type": "execute_result"
    },
    {
     "data": {
      "image/png": "[encoded data removed]",
      "text/plain": [
       "<Figure size 432x288 with 1 Axes>"
      ]
     },
     "metadata": {
      "needs_background": "light"
     },
     "output_type": "display_data"
    }
   ],
   "source": [
    "sns.barplot(x='extractorName', y='input_netCannabinoids(%)', data=data)"
   ]
  },
  {
   "cell_type": "markdown",
   "metadata": {},
   "source": [
    "From the above plot we see that the input for Eden is less in comparison to other extractor names."
   ]
  },
  {
   "cell_type": "code",
   "execution_count": 13,
   "metadata": {},
   "outputs": [
    {
     "data": {
      "text/plain": [
       "<matplotlib.axes._subplots.AxesSubplot at 0x7fb1defb30d0>"
      ]
     },
     "execution_count": 13,
     "metadata": {},
     "output_type": "execute_result"
    },
    {
     "data": {
      "image/png": "[encoded data removed]",
      "text/plain": [
       "<Figure size 432x288 with 1 Axes>"
      ]
     },
     "metadata": {
      "needs_background": "light"
     },
     "output_type": "display_data"
    }
   ],
   "source": [
    "sns.barplot(x='extractorName', y='output_cannabinoids(%)', data=data)"
   ]
  },
  {
   "cell_type": "markdown",
   "metadata": {},
   "source": [
    "From the above plot we see that the cannabinoids output for Eden is less than the other extractor names. Still makes sense because the cannabinoids input provided (as in the dataset) is less as seen from the previous plot. Still than, for the less input given, the run time required by Eden is higher."
   ]
  },
  {
   "cell_type": "code",
   "execution_count": 14,
   "metadata": {},
   "outputs": [
    {
     "data": {
      "text/plain": [
       "<matplotlib.axes._subplots.AxesSubplot at 0x7fb1def2ead0>"
      ]
     },
     "execution_count": 14,
     "metadata": {},
     "output_type": "execute_result"
    },
    {
     "data": {
      "image/png": "[encoded data removed]",
      "text/plain": [
       "<Figure size 432x288 with 1 Axes>"
      ]
     },
     "metadata": {
      "needs_background": "light"
     },
     "output_type": "display_data"
    }
   ],
   "source": [
    "sns.barplot(x='extractorName', y='pressure(bar)', data=data)"
   ]
  },
  {
   "cell_type": "markdown",
   "metadata": {},
   "source": [
    "Except Eden all other extractor require higher pressure. "
   ]
  },
  {
   "cell_type": "code",
   "execution_count": 15,
   "metadata": {},
   "outputs": [
    {
     "data": {
      "text/plain": [
       "<matplotlib.axes._subplots.AxesSubplot at 0x7fb1f5628050>"
      ]
     },
     "execution_count": 15,
     "metadata": {},
     "output_type": "execute_result"
    },
    {
     "data": {
      "image/png": "[encoded data removed]",
      "text/plain": [
       "<Figure size 432x288 with 1 Axes>"
      ]
     },
     "metadata": {
      "needs_background": "light"
     },
     "output_type": "display_data"
    }
   ],
   "source": [
    "sns.barplot(x='extractorName', y='temperature(C)', data=data)"
   ]
  },
  {
   "cell_type": "markdown",
   "metadata": {},
   "source": [
    "Extrakt A and AES Extractor have a higher temperature data in comparison to other as provided in the dataset. EXT-200 and EXT-100 have almost similiar temp data."
   ]
  },
  {
   "cell_type": "markdown",
   "metadata": {},
   "source": [
    "<b> Following is the EDA with respect to the cannabinoids output \n"
   ]
  },
  {
   "cell_type": "markdown",
   "metadata": {},
   "source": [
    "Drawing Scatterplot to show the relationship between the dependent feature 'cannabinoids output' and other independent feature columns"
   ]
  },
  {
   "cell_type": "code",
   "execution_count": 16,
   "metadata": {},
   "outputs": [
    {
     "data": {
      "image/png": "[encoded data removed]",
      "text/plain": [
       "<Figure size 720x432 with 1 Axes>"
      ]
     },
     "metadata": {
      "needs_background": "light"
     },
     "output_type": "display_data"
    }
   ],
   "source": [
    "plt.figure(figsize=(10,6))\n",
    "plt.title(\"cannabinoids output(%) vs extractorName\")\n",
    "sns.scatterplot(x='extractorName', y='output_cannabinoids(%)',hue ='extractorName', data=data)\n",
    "plt.show();"
   ]
  },
  {
   "cell_type": "markdown",
   "metadata": {},
   "source": [
    "So from the above plot, we see that from the dataset given, different extractors have different range of cannabinoids output with the Eden having the least Cannabinoids output."
   ]
  },
  {
   "cell_type": "code",
   "execution_count": 17,
   "metadata": {},
   "outputs": [
    {
     "data": {
      "image/png": "[encoded data removed]",
      "text/plain": [
       "<Figure size 720x432 with 1 Axes>"
      ]
     },
     "metadata": {
      "needs_background": "light"
     },
     "output_type": "display_data"
    }
   ],
   "source": [
    "plt.figure(figsize=(10,6))\n",
    "plt.title(\"cannabinoids output(%) vs cannabinoids input(%)\")\n",
    "sns.scatterplot(x='input_netCannabinoids(%)', y='output_cannabinoids(%)',hue ='extractorName', data=data)\n",
    "plt.show();"
   ]
  },
  {
   "cell_type": "code",
   "execution_count": 18,
   "metadata": {},
   "outputs": [
    {
     "data": {
      "image/png": "[encoded data removed]",
      "text/plain": [
       "<Figure size 720x432 with 1 Axes>"
      ]
     },
     "metadata": {
      "needs_background": "light"
     },
     "output_type": "display_data"
    }
   ],
   "source": [
    "plt.figure(figsize=(10,6))\n",
    "plt.title(\"cannabinoids output(%) vs temeprature(C)\")\n",
    "sns.scatterplot(x='temperature(C)', y='output_cannabinoids(%)', hue = 'extractorName', data=data)\n",
    "plt.show();"
   ]
  },
  {
   "cell_type": "code",
   "execution_count": 19,
   "metadata": {},
   "outputs": [
    {
     "data": {
      "image/png": "[encoded data removed]",
      "text/plain": [
       "<Figure size 720x432 with 1 Axes>"
      ]
     },
     "metadata": {
      "needs_background": "light"
     },
     "output_type": "display_data"
    }
   ],
   "source": [
    "plt.figure(figsize=(10,6))\n",
    "plt.title(\"cannabinoids output(%) vs pressure(bar)\")\n",
    "sns.scatterplot(x='pressure(bar)', y='output_cannabinoids(%)', hue ='extractorName', data=data)\n",
    "plt.show();"
   ]
  },
  {
   "cell_type": "markdown",
   "metadata": {},
   "source": [
    "From the above scatterplot, we find that there is no datapoints for the pressure between 200 bar to 300 bar."
   ]
  },
  {
   "cell_type": "code",
   "execution_count": 20,
   "metadata": {},
   "outputs": [
    {
     "data": {
      "image/png": "[encoded data removed]",
      "text/plain": [
       "<Figure size 720x432 with 1 Axes>"
      ]
     },
     "metadata": {
      "needs_background": "light"
     },
     "output_type": "display_data"
    }
   ],
   "source": [
    "plt.figure(figsize=(10,6))\n",
    "plt.title(\"cannabinoids output(%) vs runtime(min)\")\n",
    "sns.scatterplot(x='input_runTime(min)', y='output_cannabinoids(%)', hue = 'extractorName', data=data);"
   ]
  },
  {
   "cell_type": "markdown",
   "metadata": {},
   "source": [
    "From the above scatterplots, we see that there is no definite correlation or relationship visible between the feature variables and the output. "
   ]
  },
  {
   "cell_type": "markdown",
   "metadata": {},
   "source": [
    "<b> Checking for the outliers if any"
   ]
  },
  {
   "cell_type": "code",
   "execution_count": 21,
   "metadata": {},
   "outputs": [
    {
     "data": {
      "image/png": "[encoded data removed]",
      "text/plain": [
       "<Figure size 576x720 with 1 Axes>"
      ]
     },
     "metadata": {
      "needs_background": "light"
     },
     "output_type": "display_data"
    }
   ],
   "source": [
    "#For run time\n",
    "\n",
    "plt.figure(figsize=(8,10))\n",
    "ax = sns.boxplot(x=\"extractorName\", y=\"input_runTime(min)\", data=data)"
   ]
  },
  {
   "cell_type": "markdown",
   "metadata": {},
   "source": [
    "There are few outliers in input_runTime for Extrakt A and EXT-200 as seen from the boxplot above. Also suggest that the data for runtime are close together, except for Eden and AES Extractor."
   ]
  },
  {
   "cell_type": "code",
   "execution_count": 22,
   "metadata": {},
   "outputs": [
    {
     "data": {
      "image/png": "[encoded data removed]",
      "text/plain": [
       "<Figure size 576x720 with 1 Axes>"
      ]
     },
     "metadata": {
      "needs_background": "light"
     },
     "output_type": "display_data"
    }
   ],
   "source": [
    "#For cannabinoids input(%)\n",
    "\n",
    "plt.figure(figsize=(8,10))\n",
    "ax = sns.boxplot(x=\"extractorName\", y=\"input_netCannabinoids(%)\", data=data)"
   ]
  },
  {
   "cell_type": "markdown",
   "metadata": {},
   "source": [
    "There are no outliers, However boxplot for Eden shows the values are same for the feature- cannabinoids input(%)"
   ]
  },
  {
   "cell_type": "code",
   "execution_count": 23,
   "metadata": {},
   "outputs": [
    {
     "data": {
      "image/png": "[encoded data removed]",
      "text/plain": [
       "<Figure size 576x720 with 1 Axes>"
      ]
     },
     "metadata": {
      "needs_background": "light"
     },
     "output_type": "display_data"
    }
   ],
   "source": [
    "#For cannabinoids output(%)\n",
    "\n",
    "plt.figure(figsize=(8,10))\n",
    "ax = sns.boxplot(x=\"extractorName\", y=\"output_cannabinoids(%)\", data=data)"
   ]
  },
  {
   "cell_type": "markdown",
   "metadata": {},
   "source": [
    "There is one outlier for cannabinoids output in AES extractor "
   ]
  },
  {
   "cell_type": "code",
   "execution_count": 24,
   "metadata": {},
   "outputs": [
    {
     "data": {
      "image/png": "[encoded data removed]",
      "text/plain": [
       "<Figure size 576x720 with 1 Axes>"
      ]
     },
     "metadata": {
      "needs_background": "light"
     },
     "output_type": "display_data"
    }
   ],
   "source": [
    "#For temperature(C)\n",
    "\n",
    "plt.figure(figsize=(8,10))\n",
    "ax = sns.boxplot(x=\"extractorName\", y=\"temperature(C)\", data=data)"
   ]
  },
  {
   "cell_type": "markdown",
   "metadata": {},
   "source": [
    "Above Boxplot shows there exists outliers for all the extractor names. Boxplots for all except 'Extrakt A' suggest that the temperature data are condensed or are close together."
   ]
  },
  {
   "cell_type": "code",
   "execution_count": 25,
   "metadata": {},
   "outputs": [
    {
     "data": {
      "image/png": "[encoded data removed]",
      "text/plain": [
       "<Figure size 576x720 with 1 Axes>"
      ]
     },
     "metadata": {
      "needs_background": "light"
     },
     "output_type": "display_data"
    }
   ],
   "source": [
    "#For pressure(bar)\n",
    "\n",
    "plt.figure(figsize=(8,10))\n",
    "ax = sns.boxplot(x=\"extractorName\", y=\"pressure(bar)\", data=data)"
   ]
  },
  {
   "cell_type": "markdown",
   "metadata": {},
   "source": [
    "Above Boxplot shows that the data given for pressure feature has few outliers. Also for some extractor names like 'Extrakt A', EXT-200, EXT-100 the data points for pressure lie close together or condensed."
   ]
  },
  {
   "cell_type": "markdown",
   "metadata": {},
   "source": [
    "<b> Following is the visualization for the distribution of dataset "
   ]
  },
  {
   "cell_type": "code",
   "execution_count": 26,
   "metadata": {},
   "outputs": [
    {
     "data": {
      "image/png": "[encoded data removed]",
      "text/plain": [
       "<Figure size 432x288 with 1 Axes>"
      ]
     },
     "metadata": {
      "needs_background": "light"
     },
     "output_type": "display_data"
    }
   ],
   "source": [
    "#for runtime\n",
    "sns.distplot(data['input_runTime(min)'].dropna(), bins=30, kde=False, fit=stats.gamma);"
   ]
  },
  {
   "cell_type": "code",
   "execution_count": 27,
   "metadata": {},
   "outputs": [
    {
     "data": {
      "image/png": "[encoded data removed]",
      "text/plain": [
       "<Figure size 432x288 with 1 Axes>"
      ]
     },
     "metadata": {
      "needs_background": "light"
     },
     "output_type": "display_data"
    }
   ],
   "source": [
    "#for cannabinoids input(%)\n",
    "sns.distplot(data['input_netCannabinoids(%)'].dropna(), bins=30, kde=False, fit=stats.gamma);"
   ]
  },
  {
   "cell_type": "code",
   "execution_count": 28,
   "metadata": {},
   "outputs": [
    {
     "data": {
      "image/png": "[encoded data removed]",
      "text/plain": [
       "<Figure size 432x288 with 1 Axes>"
      ]
     },
     "metadata": {
      "needs_background": "light"
     },
     "output_type": "display_data"
    }
   ],
   "source": [
    "#for cannabinoids output(%)\n",
    "sns.distplot(data['output_cannabinoids(%)'].dropna(), bins=35, kde=False, fit=stats.gamma);"
   ]
  },
  {
   "cell_type": "code",
   "execution_count": 29,
   "metadata": {},
   "outputs": [
    {
     "data": {
      "image/png": "[encoded data removed]",
      "text/plain": [
       "<Figure size 432x288 with 1 Axes>"
      ]
     },
     "metadata": {
      "needs_background": "light"
     },
     "output_type": "display_data"
    }
   ],
   "source": [
    "#for pressure(bar)\n",
    "sns.distplot(data['pressure(bar)'].dropna(), bins=20, kde=False, fit=stats.gamma);"
   ]
  },
  {
   "cell_type": "code",
   "execution_count": 30,
   "metadata": {},
   "outputs": [
    {
     "data": {
      "image/png": "[encoded data removed]",
      "text/plain": [
       "<Figure size 432x288 with 1 Axes>"
      ]
     },
     "metadata": {
      "needs_background": "light"
     },
     "output_type": "display_data"
    }
   ],
   "source": [
    "#for temperature(C)\n",
    "sns.distplot(data['temperature(C)'].dropna(), bins=30, kde=False, fit=stats.gamma);"
   ]
  },
  {
   "cell_type": "markdown",
   "metadata": {},
   "source": [
    "From the above plotted Histograms, it is clear that the data in the feature column is not normally distributed. For 'cannabinoids output' it is skewed left and for 'runtime', the data points are right skewed."
   ]
  },
  {
   "cell_type": "markdown",
   "metadata": {},
   "source": [
    "\n",
    "<b> Handling the missing data in the dataset"
   ]
  },
  {
   "cell_type": "code",
   "execution_count": 31,
   "metadata": {},
   "outputs": [
    {
     "data": {
      "text/html": [
       "<div>\n",
       "<style scoped>\n",
       "    .dataframe tbody tr th:only-of-type {\n",
       "        vertical-align: middle;\n",
       "    }\n",
       "\n",
       "    .dataframe tbody tr th {\n",
       "        vertical-align: top;\n",
       "    }\n",
       "\n",
       "    .dataframe thead th {\n",
       "        text-align: right;\n",
       "    }\n",
       "</style>\n",
       "<table border=\"1\" class=\"dataframe\">\n",
       "  <thead>\n",
       "    <tr style=\"text-align: right;\">\n",
       "      <th></th>\n",
       "      <th>extractorName</th>\n",
       "      <th>AES Extractor</th>\n",
       "      <th>EXT-100</th>\n",
       "      <th>EXT-200</th>\n",
       "      <th>Eden</th>\n",
       "      <th>Extrakt A</th>\n",
       "    </tr>\n",
       "  </thead>\n",
       "  <tbody>\n",
       "    <tr>\n",
       "      <th rowspan=\"8\" valign=\"top\">input_runTime(min)</th>\n",
       "      <th>count</th>\n",
       "      <td>18.000000</td>\n",
       "      <td>130.000000</td>\n",
       "      <td>95.000000</td>\n",
       "      <td>1.500000e+01</td>\n",
       "      <td>22.000000</td>\n",
       "    </tr>\n",
       "    <tr>\n",
       "      <th>mean</th>\n",
       "      <td>276.111111</td>\n",
       "      <td>74.330769</td>\n",
       "      <td>74.021053</td>\n",
       "      <td>7.600000e+02</td>\n",
       "      <td>108.681818</td>\n",
       "    </tr>\n",
       "    <tr>\n",
       "      <th>std</th>\n",
       "      <td>43.561841</td>\n",
       "      <td>5.134453</td>\n",
       "      <td>4.987173</td>\n",
       "      <td>2.971291e+02</td>\n",
       "      <td>24.188518</td>\n",
       "    </tr>\n",
       "    <tr>\n",
       "      <th>min</th>\n",
       "      <td>205.000000</td>\n",
       "      <td>70.000000</td>\n",
       "      <td>70.000000</td>\n",
       "      <td>1.800000e+02</td>\n",
       "      <td>90.000000</td>\n",
       "    </tr>\n",
       "    <tr>\n",
       "      <th>25%</th>\n",
       "      <td>238.500000</td>\n",
       "      <td>70.000000</td>\n",
       "      <td>70.000000</td>\n",
       "      <td>4.800000e+02</td>\n",
       "      <td>95.000000</td>\n",
       "    </tr>\n",
       "    <tr>\n",
       "      <th>50%</th>\n",
       "      <td>281.000000</td>\n",
       "      <td>72.000000</td>\n",
       "      <td>70.000000</td>\n",
       "      <td>7.800000e+02</td>\n",
       "      <td>98.500000</td>\n",
       "    </tr>\n",
       "    <tr>\n",
       "      <th>75%</th>\n",
       "      <td>317.750000</td>\n",
       "      <td>80.000000</td>\n",
       "      <td>77.000000</td>\n",
       "      <td>1.020000e+03</td>\n",
       "      <td>100.000000</td>\n",
       "    </tr>\n",
       "    <tr>\n",
       "      <th>max</th>\n",
       "      <td>350.000000</td>\n",
       "      <td>94.000000</td>\n",
       "      <td>90.000000</td>\n",
       "      <td>1.320000e+03</td>\n",
       "      <td>157.000000</td>\n",
       "    </tr>\n",
       "    <tr>\n",
       "      <th rowspan=\"8\" valign=\"top\">input_netCannabinoids(%)</th>\n",
       "      <th>count</th>\n",
       "      <td>17.000000</td>\n",
       "      <td>131.000000</td>\n",
       "      <td>94.000000</td>\n",
       "      <td>1.500000e+01</td>\n",
       "      <td>22.000000</td>\n",
       "    </tr>\n",
       "    <tr>\n",
       "      <th>mean</th>\n",
       "      <td>11.381471</td>\n",
       "      <td>13.902922</td>\n",
       "      <td>14.172987</td>\n",
       "      <td>8.710000e+00</td>\n",
       "      <td>14.973364</td>\n",
       "    </tr>\n",
       "    <tr>\n",
       "      <th>std</th>\n",
       "      <td>1.067882</td>\n",
       "      <td>2.834423</td>\n",
       "      <td>3.183595</td>\n",
       "      <td>3.677408e-15</td>\n",
       "      <td>2.798045</td>\n",
       "    </tr>\n",
       "    <tr>\n",
       "      <th>min</th>\n",
       "      <td>9.842400</td>\n",
       "      <td>9.842400</td>\n",
       "      <td>7.398000</td>\n",
       "      <td>8.710000e+00</td>\n",
       "      <td>10.193000</td>\n",
       "    </tr>\n",
       "    <tr>\n",
       "      <th>25%</th>\n",
       "      <td>9.842400</td>\n",
       "      <td>11.652000</td>\n",
       "      <td>11.714000</td>\n",
       "      <td>8.710000e+00</td>\n",
       "      <td>12.820000</td>\n",
       "    </tr>\n",
       "    <tr>\n",
       "      <th>50%</th>\n",
       "      <td>11.652000</td>\n",
       "      <td>12.958000</td>\n",
       "      <td>16.557000</td>\n",
       "      <td>8.710000e+00</td>\n",
       "      <td>15.824000</td>\n",
       "    </tr>\n",
       "    <tr>\n",
       "      <th>75%</th>\n",
       "      <td>12.101000</td>\n",
       "      <td>16.557000</td>\n",
       "      <td>16.759000</td>\n",
       "      <td>8.710000e+00</td>\n",
       "      <td>17.720000</td>\n",
       "    </tr>\n",
       "    <tr>\n",
       "      <th>max</th>\n",
       "      <td>12.958000</td>\n",
       "      <td>18.411000</td>\n",
       "      <td>16.961000</td>\n",
       "      <td>8.710000e+00</td>\n",
       "      <td>17.720000</td>\n",
       "    </tr>\n",
       "    <tr>\n",
       "      <th rowspan=\"8\" valign=\"top\">output_cannabinoids(%)</th>\n",
       "      <th>count</th>\n",
       "      <td>18.000000</td>\n",
       "      <td>130.000000</td>\n",
       "      <td>93.000000</td>\n",
       "      <td>1.500000e+01</td>\n",
       "      <td>21.000000</td>\n",
       "    </tr>\n",
       "    <tr>\n",
       "      <th>mean</th>\n",
       "      <td>65.077053</td>\n",
       "      <td>64.916088</td>\n",
       "      <td>63.603867</td>\n",
       "      <td>2.792196e+01</td>\n",
       "      <td>71.316544</td>\n",
       "    </tr>\n",
       "    <tr>\n",
       "      <th>std</th>\n",
       "      <td>6.076788</td>\n",
       "      <td>7.551672</td>\n",
       "      <td>7.593653</td>\n",
       "      <td>1.563496e+01</td>\n",
       "      <td>11.054742</td>\n",
       "    </tr>\n",
       "    <tr>\n",
       "      <th>min</th>\n",
       "      <td>51.603718</td>\n",
       "      <td>47.278273</td>\n",
       "      <td>44.514300</td>\n",
       "      <td>4.141176e+00</td>\n",
       "      <td>52.545082</td>\n",
       "    </tr>\n",
       "    <tr>\n",
       "      <th>25%</th>\n",
       "      <td>63.340741</td>\n",
       "      <td>58.985108</td>\n",
       "      <td>58.473043</td>\n",
       "      <td>1.760794e+01</td>\n",
       "      <td>64.067291</td>\n",
       "    </tr>\n",
       "    <tr>\n",
       "      <th>50%</th>\n",
       "      <td>66.099289</td>\n",
       "      <td>66.694235</td>\n",
       "      <td>66.242366</td>\n",
       "      <td>3.148944e+01</td>\n",
       "      <td>70.484702</td>\n",
       "    </tr>\n",
       "    <tr>\n",
       "      <th>75%</th>\n",
       "      <td>69.761393</td>\n",
       "      <td>70.640525</td>\n",
       "      <td>68.697804</td>\n",
       "      <td>3.534250e+01</td>\n",
       "      <td>78.613291</td>\n",
       "    </tr>\n",
       "    <tr>\n",
       "      <th>max</th>\n",
       "      <td>71.420657</td>\n",
       "      <td>79.437907</td>\n",
       "      <td>77.317677</td>\n",
       "      <td>5.848598e+01</td>\n",
       "      <td>88.966677</td>\n",
       "    </tr>\n",
       "    <tr>\n",
       "      <th rowspan=\"8\" valign=\"top\">pressure(bar)</th>\n",
       "      <th>count</th>\n",
       "      <td>18.000000</td>\n",
       "      <td>129.000000</td>\n",
       "      <td>95.000000</td>\n",
       "      <td>1.500000e+01</td>\n",
       "      <td>22.000000</td>\n",
       "    </tr>\n",
       "    <tr>\n",
       "      <th>mean</th>\n",
       "      <td>328.055556</td>\n",
       "      <td>328.488372</td>\n",
       "      <td>338.315789</td>\n",
       "      <td>1.103161e+02</td>\n",
       "      <td>345.803106</td>\n",
       "    </tr>\n",
       "    <tr>\n",
       "      <th>std</th>\n",
       "      <td>40.913786</td>\n",
       "      <td>59.534669</td>\n",
       "      <td>45.239378</td>\n",
       "      <td>1.473482e+01</td>\n",
       "      <td>3.393369</td>\n",
       "    </tr>\n",
       "    <tr>\n",
       "      <th>min</th>\n",
       "      <td>165.000000</td>\n",
       "      <td>165.000000</td>\n",
       "      <td>165.000000</td>\n",
       "      <td>8.646029e+01</td>\n",
       "      <td>331.135624</td>\n",
       "    </tr>\n",
       "    <tr>\n",
       "      <th>25%</th>\n",
       "      <td>332.500000</td>\n",
       "      <td>350.000000</td>\n",
       "      <td>350.000000</td>\n",
       "      <td>1.023182e+02</td>\n",
       "      <td>345.784526</td>\n",
       "    </tr>\n",
       "    <tr>\n",
       "      <th>50%</th>\n",
       "      <td>340.000000</td>\n",
       "      <td>350.000000</td>\n",
       "      <td>350.000000</td>\n",
       "      <td>1.103161e+02</td>\n",
       "      <td>346.313945</td>\n",
       "    </tr>\n",
       "    <tr>\n",
       "      <th>75%</th>\n",
       "      <td>340.000000</td>\n",
       "      <td>350.000000</td>\n",
       "      <td>350.000000</td>\n",
       "      <td>1.183141e+02</td>\n",
       "      <td>346.880300</td>\n",
       "    </tr>\n",
       "    <tr>\n",
       "      <th>max</th>\n",
       "      <td>340.000000</td>\n",
       "      <td>350.000000</td>\n",
       "      <td>350.000000</td>\n",
       "      <td>1.341720e+02</td>\n",
       "      <td>348.461170</td>\n",
       "    </tr>\n",
       "    <tr>\n",
       "      <th rowspan=\"8\" valign=\"top\">temperature(C)</th>\n",
       "      <th>count</th>\n",
       "      <td>18.000000</td>\n",
       "      <td>129.000000</td>\n",
       "      <td>96.000000</td>\n",
       "      <td>1.400000e+01</td>\n",
       "      <td>22.000000</td>\n",
       "    </tr>\n",
       "    <tr>\n",
       "      <th>mean</th>\n",
       "      <td>70.555556</td>\n",
       "      <td>54.810853</td>\n",
       "      <td>54.875000</td>\n",
       "      <td>4.555558e+01</td>\n",
       "      <td>72.999835</td>\n",
       "    </tr>\n",
       "    <tr>\n",
       "      <th>std</th>\n",
       "      <td>2.357023</td>\n",
       "      <td>0.952320</td>\n",
       "      <td>0.486664</td>\n",
       "      <td>8.001424e+00</td>\n",
       "      <td>5.605093</td>\n",
       "    </tr>\n",
       "    <tr>\n",
       "      <th>min</th>\n",
       "      <td>70.000000</td>\n",
       "      <td>52.900000</td>\n",
       "      <td>53.000000</td>\n",
       "      <td>3.377778e+01</td>\n",
       "      <td>60.142857</td>\n",
       "    </tr>\n",
       "    <tr>\n",
       "      <th>25%</th>\n",
       "      <td>70.000000</td>\n",
       "      <td>55.000000</td>\n",
       "      <td>55.000000</td>\n",
       "      <td>4.555560e+01</td>\n",
       "      <td>71.560714</td>\n",
       "    </tr>\n",
       "    <tr>\n",
       "      <th>50%</th>\n",
       "      <td>70.000000</td>\n",
       "      <td>55.000000</td>\n",
       "      <td>55.000000</td>\n",
       "      <td>4.555560e+01</td>\n",
       "      <td>74.271429</td>\n",
       "    </tr>\n",
       "    <tr>\n",
       "      <th>75%</th>\n",
       "      <td>70.000000</td>\n",
       "      <td>55.000000</td>\n",
       "      <td>55.000000</td>\n",
       "      <td>4.555560e+01</td>\n",
       "      <td>76.650714</td>\n",
       "    </tr>\n",
       "    <tr>\n",
       "      <th>max</th>\n",
       "      <td>80.000000</td>\n",
       "      <td>62.500000</td>\n",
       "      <td>55.000000</td>\n",
       "      <td>5.733333e+01</td>\n",
       "      <td>81.550000</td>\n",
       "    </tr>\n",
       "  </tbody>\n",
       "</table>\n",
       "</div>"
      ],
      "text/plain": [
       "extractorName                   AES Extractor     EXT-100     EXT-200  \\\n",
       "input_runTime(min)       count      18.000000  130.000000   95.000000   \n",
       "                         mean      276.111111   74.330769   74.021053   \n",
       "                         std        43.561841    5.134453    4.987173   \n",
       "                         min       205.000000   70.000000   70.000000   \n",
       "                         25%       238.500000   70.000000   70.000000   \n",
       "                         50%       281.000000   72.000000   70.000000   \n",
       "                         75%       317.750000   80.000000   77.000000   \n",
       "                         max       350.000000   94.000000   90.000000   \n",
       "input_netCannabinoids(%) count      17.000000  131.000000   94.000000   \n",
       "                         mean       11.381471   13.902922   14.172987   \n",
       "                         std         1.067882    2.834423    3.183595   \n",
       "                         min         9.842400    9.842400    7.398000   \n",
       "                         25%         9.842400   11.652000   11.714000   \n",
       "                         50%        11.652000   12.958000   16.557000   \n",
       "                         75%        12.101000   16.557000   16.759000   \n",
       "                         max        12.958000   18.411000   16.961000   \n",
       "output_cannabinoids(%)   count      18.000000  130.000000   93.000000   \n",
       "                         mean       65.077053   64.916088   63.603867   \n",
       "                         std         6.076788    7.551672    7.593653   \n",
       "                         min        51.603718   47.278273   44.514300   \n",
       "                         25%        63.340741   58.985108   58.473043   \n",
       "                         50%        66.099289   66.694235   66.242366   \n",
       "                         75%        69.761393   70.640525   68.697804   \n",
       "                         max        71.420657   79.437907   77.317677   \n",
       "pressure(bar)            count      18.000000  129.000000   95.000000   \n",
       "                         mean      328.055556  328.488372  338.315789   \n",
       "                         std        40.913786   59.534669   45.239378   \n",
       "                         min       165.000000  165.000000  165.000000   \n",
       "                         25%       332.500000  350.000000  350.000000   \n",
       "                         50%       340.000000  350.000000  350.000000   \n",
       "                         75%       340.000000  350.000000  350.000000   \n",
       "                         max       340.000000  350.000000  350.000000   \n",
       "temperature(C)           count      18.000000  129.000000   96.000000   \n",
       "                         mean       70.555556   54.810853   54.875000   \n",
       "                         std         2.357023    0.952320    0.486664   \n",
       "                         min        70.000000   52.900000   53.000000   \n",
       "                         25%        70.000000   55.000000   55.000000   \n",
       "                         50%        70.000000   55.000000   55.000000   \n",
       "                         75%        70.000000   55.000000   55.000000   \n",
       "                         max        80.000000   62.500000   55.000000   \n",
       "\n",
       "extractorName                           Eden   Extrakt A  \n",
       "input_runTime(min)       count  1.500000e+01   22.000000  \n",
       "                         mean   7.600000e+02  108.681818  \n",
       "                         std    2.971291e+02   24.188518  \n",
       "                         min    1.800000e+02   90.000000  \n",
       "                         25%    4.800000e+02   95.000000  \n",
       "                         50%    7.800000e+02   98.500000  \n",
       "                         75%    1.020000e+03  100.000000  \n",
       "                         max    1.320000e+03  157.000000  \n",
       "input_netCannabinoids(%) count  1.500000e+01   22.000000  \n",
       "                         mean   8.710000e+00   14.973364  \n",
       "                         std    3.677408e-15    2.798045  \n",
       "                         min    8.710000e+00   10.193000  \n",
       "                         25%    8.710000e+00   12.820000  \n",
       "                         50%    8.710000e+00   15.824000  \n",
       "                         75%    8.710000e+00   17.720000  \n",
       "                         max    8.710000e+00   17.720000  \n",
       "output_cannabinoids(%)   count  1.500000e+01   21.000000  \n",
       "                         mean   2.792196e+01   71.316544  \n",
       "                         std    1.563496e+01   11.054742  \n",
       "                         min    4.141176e+00   52.545082  \n",
       "                         25%    1.760794e+01   64.067291  \n",
       "                         50%    3.148944e+01   70.484702  \n",
       "                         75%    3.534250e+01   78.613291  \n",
       "                         max    5.848598e+01   88.966677  \n",
       "pressure(bar)            count  1.500000e+01   22.000000  \n",
       "                         mean   1.103161e+02  345.803106  \n",
       "                         std    1.473482e+01    3.393369  \n",
       "                         min    8.646029e+01  331.135624  \n",
       "                         25%    1.023182e+02  345.784526  \n",
       "                         50%    1.103161e+02  346.313945  \n",
       "                         75%    1.183141e+02  346.880300  \n",
       "                         max    1.341720e+02  348.461170  \n",
       "temperature(C)           count  1.400000e+01   22.000000  \n",
       "                         mean   4.555558e+01   72.999835  \n",
       "                         std    8.001424e+00    5.605093  \n",
       "                         min    3.377778e+01   60.142857  \n",
       "                         25%    4.555560e+01   71.560714  \n",
       "                         50%    4.555560e+01   74.271429  \n",
       "                         75%    4.555560e+01   76.650714  \n",
       "                         max    5.733333e+01   81.550000  "
      ]
     },
     "execution_count": 31,
     "metadata": {},
     "output_type": "execute_result"
    }
   ],
   "source": [
    "#description of dataset by grouping with respect to 'extractorName'\n",
    "data.groupby('extractorName').describe().T"
   ]
  },
  {
   "cell_type": "markdown",
   "metadata": {},
   "source": [
    "From the summary statistics shown above, when the dataset is grouped by 'extractorName' we find that different extractor name have different dispersion, distribution shape of data for the respective feature columns. Hence replacing the missing values with the feature columns mean/median won't do good and won't be meaningful.\n",
    "\n",
    "Also deletion of rows won't be a good criteria since the dataset is small and deletion of rows which are  having missing values will lead to loss of information. "
   ]
  },
  {
   "cell_type": "markdown",
   "metadata": {},
   "source": [
    "It would be better if we can group the data on the basis of the extractor names and then replace the missing values. It would make sense instead of replacing the data with the mean or median of the entire feature column which can lead to inaccurate learning for the model. "
   ]
  },
  {
   "cell_type": "code",
   "execution_count": 32,
   "metadata": {},
   "outputs": [],
   "source": [
    "df_A = data[data['extractorName']=='Extrakt A']\n",
    "df_eden = data[data['extractorName']=='Eden']\n",
    "df_ext_200 = data[data['extractorName']=='EXT-200']\n",
    "df_ext_100 = data[data['extractorName']=='EXT-100']\n",
    "df_AES = data[data['extractorName']=='AES Extractor']"
   ]
  },
  {
   "cell_type": "code",
   "execution_count": 33,
   "metadata": {},
   "outputs": [
    {
     "data": {
      "text/plain": [
       "extractorName               0\n",
       "input_runTime(min)          0\n",
       "input_netCannabinoids(%)    0\n",
       "output_cannabinoids(%)      1\n",
       "pressure(bar)               0\n",
       "temperature(C)              0\n",
       "dtype: int64"
      ]
     },
     "execution_count": 33,
     "metadata": {},
     "output_type": "execute_result"
    }
   ],
   "source": [
    "df_A.isnull().sum()"
   ]
  },
  {
   "cell_type": "code",
   "execution_count": 34,
   "metadata": {},
   "outputs": [
    {
     "data": {
      "text/html": [
       "<div>\n",
       "<style scoped>\n",
       "    .dataframe tbody tr th:only-of-type {\n",
       "        vertical-align: middle;\n",
       "    }\n",
       "\n",
       "    .dataframe tbody tr th {\n",
       "        vertical-align: top;\n",
       "    }\n",
       "\n",
       "    .dataframe thead th {\n",
       "        text-align: right;\n",
       "    }\n",
       "</style>\n",
       "<table border=\"1\" class=\"dataframe\">\n",
       "  <thead>\n",
       "    <tr style=\"text-align: right;\">\n",
       "      <th></th>\n",
       "      <th>input_runTime(min)</th>\n",
       "      <th>input_netCannabinoids(%)</th>\n",
       "      <th>output_cannabinoids(%)</th>\n",
       "      <th>pressure(bar)</th>\n",
       "      <th>temperature(C)</th>\n",
       "    </tr>\n",
       "  </thead>\n",
       "  <tbody>\n",
       "    <tr>\n",
       "      <th>count</th>\n",
       "      <td>22.000000</td>\n",
       "      <td>22.000000</td>\n",
       "      <td>21.000000</td>\n",
       "      <td>22.000000</td>\n",
       "      <td>22.000000</td>\n",
       "    </tr>\n",
       "    <tr>\n",
       "      <th>mean</th>\n",
       "      <td>108.681818</td>\n",
       "      <td>14.973364</td>\n",
       "      <td>71.316544</td>\n",
       "      <td>345.803106</td>\n",
       "      <td>72.999835</td>\n",
       "    </tr>\n",
       "    <tr>\n",
       "      <th>std</th>\n",
       "      <td>24.188518</td>\n",
       "      <td>2.798045</td>\n",
       "      <td>11.054742</td>\n",
       "      <td>3.393369</td>\n",
       "      <td>5.605093</td>\n",
       "    </tr>\n",
       "    <tr>\n",
       "      <th>min</th>\n",
       "      <td>90.000000</td>\n",
       "      <td>10.193000</td>\n",
       "      <td>52.545082</td>\n",
       "      <td>331.135624</td>\n",
       "      <td>60.142857</td>\n",
       "    </tr>\n",
       "    <tr>\n",
       "      <th>25%</th>\n",
       "      <td>95.000000</td>\n",
       "      <td>12.820000</td>\n",
       "      <td>64.067291</td>\n",
       "      <td>345.784526</td>\n",
       "      <td>71.560714</td>\n",
       "    </tr>\n",
       "    <tr>\n",
       "      <th>50%</th>\n",
       "      <td>98.500000</td>\n",
       "      <td>15.824000</td>\n",
       "      <td>70.484702</td>\n",
       "      <td>346.313945</td>\n",
       "      <td>74.271429</td>\n",
       "    </tr>\n",
       "    <tr>\n",
       "      <th>75%</th>\n",
       "      <td>100.000000</td>\n",
       "      <td>17.720000</td>\n",
       "      <td>78.613291</td>\n",
       "      <td>346.880300</td>\n",
       "      <td>76.650714</td>\n",
       "    </tr>\n",
       "    <tr>\n",
       "      <th>max</th>\n",
       "      <td>157.000000</td>\n",
       "      <td>17.720000</td>\n",
       "      <td>88.966677</td>\n",
       "      <td>348.461170</td>\n",
       "      <td>81.550000</td>\n",
       "    </tr>\n",
       "  </tbody>\n",
       "</table>\n",
       "</div>"
      ],
      "text/plain": [
       "       input_runTime(min)  input_netCannabinoids(%)  output_cannabinoids(%)  \\\n",
       "count           22.000000                 22.000000               21.000000   \n",
       "mean           108.681818                 14.973364               71.316544   \n",
       "std             24.188518                  2.798045               11.054742   \n",
       "min             90.000000                 10.193000               52.545082   \n",
       "25%             95.000000                 12.820000               64.067291   \n",
       "50%             98.500000                 15.824000               70.484702   \n",
       "75%            100.000000                 17.720000               78.613291   \n",
       "max            157.000000                 17.720000               88.966677   \n",
       "\n",
       "       pressure(bar)  temperature(C)  \n",
       "count      22.000000       22.000000  \n",
       "mean      345.803106       72.999835  \n",
       "std         3.393369        5.605093  \n",
       "min       331.135624       60.142857  \n",
       "25%       345.784526       71.560714  \n",
       "50%       346.313945       74.271429  \n",
       "75%       346.880300       76.650714  \n",
       "max       348.461170       81.550000  "
      ]
     },
     "execution_count": 34,
     "metadata": {},
     "output_type": "execute_result"
    }
   ],
   "source": [
    "df_A.describe()"
   ]
  },
  {
   "cell_type": "code",
   "execution_count": 35,
   "metadata": {},
   "outputs": [
    {
     "data": {
      "text/plain": [
       "extractorName               0\n",
       "input_runTime(min)          0\n",
       "input_netCannabinoids(%)    0\n",
       "output_cannabinoids(%)      0\n",
       "pressure(bar)               0\n",
       "temperature(C)              1\n",
       "dtype: int64"
      ]
     },
     "execution_count": 35,
     "metadata": {},
     "output_type": "execute_result"
    }
   ],
   "source": [
    "df_eden.isnull().sum()"
   ]
  },
  {
   "cell_type": "code",
   "execution_count": 36,
   "metadata": {},
   "outputs": [
    {
     "data": {
      "text/html": [
       "<div>\n",
       "<style scoped>\n",
       "    .dataframe tbody tr th:only-of-type {\n",
       "        vertical-align: middle;\n",
       "    }\n",
       "\n",
       "    .dataframe tbody tr th {\n",
       "        vertical-align: top;\n",
       "    }\n",
       "\n",
       "    .dataframe thead th {\n",
       "        text-align: right;\n",
       "    }\n",
       "</style>\n",
       "<table border=\"1\" class=\"dataframe\">\n",
       "  <thead>\n",
       "    <tr style=\"text-align: right;\">\n",
       "      <th></th>\n",
       "      <th>input_runTime(min)</th>\n",
       "      <th>input_netCannabinoids(%)</th>\n",
       "      <th>output_cannabinoids(%)</th>\n",
       "      <th>pressure(bar)</th>\n",
       "      <th>temperature(C)</th>\n",
       "    </tr>\n",
       "  </thead>\n",
       "  <tbody>\n",
       "    <tr>\n",
       "      <th>count</th>\n",
       "      <td>15.000000</td>\n",
       "      <td>1.500000e+01</td>\n",
       "      <td>15.000000</td>\n",
       "      <td>15.000000</td>\n",
       "      <td>14.000000</td>\n",
       "    </tr>\n",
       "    <tr>\n",
       "      <th>mean</th>\n",
       "      <td>760.000000</td>\n",
       "      <td>8.710000e+00</td>\n",
       "      <td>27.921964</td>\n",
       "      <td>110.316144</td>\n",
       "      <td>45.555581</td>\n",
       "    </tr>\n",
       "    <tr>\n",
       "      <th>std</th>\n",
       "      <td>297.129121</td>\n",
       "      <td>3.677408e-15</td>\n",
       "      <td>15.634957</td>\n",
       "      <td>14.734820</td>\n",
       "      <td>8.001424</td>\n",
       "    </tr>\n",
       "    <tr>\n",
       "      <th>min</th>\n",
       "      <td>180.000000</td>\n",
       "      <td>8.710000e+00</td>\n",
       "      <td>4.141176</td>\n",
       "      <td>86.460290</td>\n",
       "      <td>33.777780</td>\n",
       "    </tr>\n",
       "    <tr>\n",
       "      <th>25%</th>\n",
       "      <td>480.000000</td>\n",
       "      <td>8.710000e+00</td>\n",
       "      <td>17.607937</td>\n",
       "      <td>102.318238</td>\n",
       "      <td>45.555600</td>\n",
       "    </tr>\n",
       "    <tr>\n",
       "      <th>50%</th>\n",
       "      <td>780.000000</td>\n",
       "      <td>8.710000e+00</td>\n",
       "      <td>31.489437</td>\n",
       "      <td>110.316100</td>\n",
       "      <td>45.555600</td>\n",
       "    </tr>\n",
       "    <tr>\n",
       "      <th>75%</th>\n",
       "      <td>1020.000000</td>\n",
       "      <td>8.710000e+00</td>\n",
       "      <td>35.342502</td>\n",
       "      <td>118.314082</td>\n",
       "      <td>45.555600</td>\n",
       "    </tr>\n",
       "    <tr>\n",
       "      <th>max</th>\n",
       "      <td>1320.000000</td>\n",
       "      <td>8.710000e+00</td>\n",
       "      <td>58.485981</td>\n",
       "      <td>134.172030</td>\n",
       "      <td>57.333333</td>\n",
       "    </tr>\n",
       "  </tbody>\n",
       "</table>\n",
       "</div>"
      ],
      "text/plain": [
       "       input_runTime(min)  input_netCannabinoids(%)  output_cannabinoids(%)  \\\n",
       "count           15.000000              1.500000e+01               15.000000   \n",
       "mean           760.000000              8.710000e+00               27.921964   \n",
       "std            297.129121              3.677408e-15               15.634957   \n",
       "min            180.000000              8.710000e+00                4.141176   \n",
       "25%            480.000000              8.710000e+00               17.607937   \n",
       "50%            780.000000              8.710000e+00               31.489437   \n",
       "75%           1020.000000              8.710000e+00               35.342502   \n",
       "max           1320.000000              8.710000e+00               58.485981   \n",
       "\n",
       "       pressure(bar)  temperature(C)  \n",
       "count      15.000000       14.000000  \n",
       "mean      110.316144       45.555581  \n",
       "std        14.734820        8.001424  \n",
       "min        86.460290       33.777780  \n",
       "25%       102.318238       45.555600  \n",
       "50%       110.316100       45.555600  \n",
       "75%       118.314082       45.555600  \n",
       "max       134.172030       57.333333  "
      ]
     },
     "execution_count": 36,
     "metadata": {},
     "output_type": "execute_result"
    }
   ],
   "source": [
    "df_eden.describe()"
   ]
  },
  {
   "cell_type": "code",
   "execution_count": 37,
   "metadata": {},
   "outputs": [
    {
     "data": {
      "text/plain": [
       "extractorName               0\n",
       "input_runTime(min)          1\n",
       "input_netCannabinoids(%)    2\n",
       "output_cannabinoids(%)      3\n",
       "pressure(bar)               1\n",
       "temperature(C)              0\n",
       "dtype: int64"
      ]
     },
     "execution_count": 37,
     "metadata": {},
     "output_type": "execute_result"
    }
   ],
   "source": [
    "df_ext_200.isnull().sum()"
   ]
  },
  {
   "cell_type": "code",
   "execution_count": 38,
   "metadata": {},
   "outputs": [
    {
     "data": {
      "text/html": [
       "<div>\n",
       "<style scoped>\n",
       "    .dataframe tbody tr th:only-of-type {\n",
       "        vertical-align: middle;\n",
       "    }\n",
       "\n",
       "    .dataframe tbody tr th {\n",
       "        vertical-align: top;\n",
       "    }\n",
       "\n",
       "    .dataframe thead th {\n",
       "        text-align: right;\n",
       "    }\n",
       "</style>\n",
       "<table border=\"1\" class=\"dataframe\">\n",
       "  <thead>\n",
       "    <tr style=\"text-align: right;\">\n",
       "      <th></th>\n",
       "      <th>extractorName</th>\n",
       "      <th>input_runTime(min)</th>\n",
       "      <th>input_netCannabinoids(%)</th>\n",
       "      <th>output_cannabinoids(%)</th>\n",
       "      <th>pressure(bar)</th>\n",
       "      <th>temperature(C)</th>\n",
       "    </tr>\n",
       "  </thead>\n",
       "  <tbody>\n",
       "    <tr>\n",
       "      <th>37</th>\n",
       "      <td>EXT-200</td>\n",
       "      <td>70.0</td>\n",
       "      <td>16.759</td>\n",
       "      <td>67.448386</td>\n",
       "      <td>350.0</td>\n",
       "      <td>55.0</td>\n",
       "    </tr>\n",
       "    <tr>\n",
       "      <th>39</th>\n",
       "      <td>EXT-200</td>\n",
       "      <td>80.0</td>\n",
       "      <td>16.557</td>\n",
       "      <td>66.997125</td>\n",
       "      <td>350.0</td>\n",
       "      <td>55.0</td>\n",
       "    </tr>\n",
       "    <tr>\n",
       "      <th>41</th>\n",
       "      <td>EXT-200</td>\n",
       "      <td>77.0</td>\n",
       "      <td>16.557</td>\n",
       "      <td>63.983610</td>\n",
       "      <td>350.0</td>\n",
       "      <td>55.0</td>\n",
       "    </tr>\n",
       "    <tr>\n",
       "      <th>45</th>\n",
       "      <td>EXT-200</td>\n",
       "      <td>70.0</td>\n",
       "      <td>7.398</td>\n",
       "      <td>NaN</td>\n",
       "      <td>350.0</td>\n",
       "      <td>55.0</td>\n",
       "    </tr>\n",
       "    <tr>\n",
       "      <th>46</th>\n",
       "      <td>EXT-200</td>\n",
       "      <td>75.0</td>\n",
       "      <td>16.961</td>\n",
       "      <td>69.759079</td>\n",
       "      <td>350.0</td>\n",
       "      <td>55.0</td>\n",
       "    </tr>\n",
       "    <tr>\n",
       "      <th>...</th>\n",
       "      <td>...</td>\n",
       "      <td>...</td>\n",
       "      <td>...</td>\n",
       "      <td>...</td>\n",
       "      <td>...</td>\n",
       "      <td>...</td>\n",
       "    </tr>\n",
       "    <tr>\n",
       "      <th>255</th>\n",
       "      <td>EXT-200</td>\n",
       "      <td>80.0</td>\n",
       "      <td>16.557</td>\n",
       "      <td>66.533581</td>\n",
       "      <td>350.0</td>\n",
       "      <td>55.0</td>\n",
       "    </tr>\n",
       "    <tr>\n",
       "      <th>261</th>\n",
       "      <td>EXT-200</td>\n",
       "      <td>75.0</td>\n",
       "      <td>NaN</td>\n",
       "      <td>67.393028</td>\n",
       "      <td>350.0</td>\n",
       "      <td>55.0</td>\n",
       "    </tr>\n",
       "    <tr>\n",
       "      <th>262</th>\n",
       "      <td>EXT-200</td>\n",
       "      <td>70.0</td>\n",
       "      <td>14.487</td>\n",
       "      <td>73.781303</td>\n",
       "      <td>165.0</td>\n",
       "      <td>53.0</td>\n",
       "    </tr>\n",
       "    <tr>\n",
       "      <th>265</th>\n",
       "      <td>EXT-200</td>\n",
       "      <td>70.0</td>\n",
       "      <td>11.714</td>\n",
       "      <td>44.514300</td>\n",
       "      <td>350.0</td>\n",
       "      <td>55.0</td>\n",
       "    </tr>\n",
       "    <tr>\n",
       "      <th>271</th>\n",
       "      <td>EXT-200</td>\n",
       "      <td>80.0</td>\n",
       "      <td>16.557</td>\n",
       "      <td>NaN</td>\n",
       "      <td>350.0</td>\n",
       "      <td>55.0</td>\n",
       "    </tr>\n",
       "  </tbody>\n",
       "</table>\n",
       "<p>96 rows × 6 columns</p>\n",
       "</div>"
      ],
      "text/plain": [
       "    extractorName  input_runTime(min)  input_netCannabinoids(%)  \\\n",
       "37        EXT-200                70.0                    16.759   \n",
       "39        EXT-200                80.0                    16.557   \n",
       "41        EXT-200                77.0                    16.557   \n",
       "45        EXT-200                70.0                     7.398   \n",
       "46        EXT-200                75.0                    16.961   \n",
       "..            ...                 ...                       ...   \n",
       "255       EXT-200                80.0                    16.557   \n",
       "261       EXT-200                75.0                       NaN   \n",
       "262       EXT-200                70.0                    14.487   \n",
       "265       EXT-200                70.0                    11.714   \n",
       "271       EXT-200                80.0                    16.557   \n",
       "\n",
       "     output_cannabinoids(%)  pressure(bar)  temperature(C)  \n",
       "37                67.448386          350.0            55.0  \n",
       "39                66.997125          350.0            55.0  \n",
       "41                63.983610          350.0            55.0  \n",
       "45                      NaN          350.0            55.0  \n",
       "46                69.759079          350.0            55.0  \n",
       "..                      ...            ...             ...  \n",
       "255               66.533581          350.0            55.0  \n",
       "261               67.393028          350.0            55.0  \n",
       "262               73.781303          165.0            53.0  \n",
       "265               44.514300          350.0            55.0  \n",
       "271                     NaN          350.0            55.0  \n",
       "\n",
       "[96 rows x 6 columns]"
      ]
     },
     "execution_count": 38,
     "metadata": {},
     "output_type": "execute_result"
    }
   ],
   "source": [
    "df_ext_200"
   ]
  },
  {
   "cell_type": "code",
   "execution_count": 39,
   "metadata": {},
   "outputs": [
    {
     "data": {
      "text/html": [
       "<div>\n",
       "<style scoped>\n",
       "    .dataframe tbody tr th:only-of-type {\n",
       "        vertical-align: middle;\n",
       "    }\n",
       "\n",
       "    .dataframe tbody tr th {\n",
       "        vertical-align: top;\n",
       "    }\n",
       "\n",
       "    .dataframe thead th {\n",
       "        text-align: right;\n",
       "    }\n",
       "</style>\n",
       "<table border=\"1\" class=\"dataframe\">\n",
       "  <thead>\n",
       "    <tr style=\"text-align: right;\">\n",
       "      <th></th>\n",
       "      <th>input_runTime(min)</th>\n",
       "      <th>input_netCannabinoids(%)</th>\n",
       "      <th>output_cannabinoids(%)</th>\n",
       "      <th>pressure(bar)</th>\n",
       "      <th>temperature(C)</th>\n",
       "    </tr>\n",
       "  </thead>\n",
       "  <tbody>\n",
       "    <tr>\n",
       "      <th>count</th>\n",
       "      <td>95.000000</td>\n",
       "      <td>94.000000</td>\n",
       "      <td>93.000000</td>\n",
       "      <td>95.000000</td>\n",
       "      <td>96.000000</td>\n",
       "    </tr>\n",
       "    <tr>\n",
       "      <th>mean</th>\n",
       "      <td>74.021053</td>\n",
       "      <td>14.172987</td>\n",
       "      <td>63.603867</td>\n",
       "      <td>338.315789</td>\n",
       "      <td>54.875000</td>\n",
       "    </tr>\n",
       "    <tr>\n",
       "      <th>std</th>\n",
       "      <td>4.987173</td>\n",
       "      <td>3.183595</td>\n",
       "      <td>7.593653</td>\n",
       "      <td>45.239378</td>\n",
       "      <td>0.486664</td>\n",
       "    </tr>\n",
       "    <tr>\n",
       "      <th>min</th>\n",
       "      <td>70.000000</td>\n",
       "      <td>7.398000</td>\n",
       "      <td>44.514300</td>\n",
       "      <td>165.000000</td>\n",
       "      <td>53.000000</td>\n",
       "    </tr>\n",
       "    <tr>\n",
       "      <th>25%</th>\n",
       "      <td>70.000000</td>\n",
       "      <td>11.714000</td>\n",
       "      <td>58.473043</td>\n",
       "      <td>350.000000</td>\n",
       "      <td>55.000000</td>\n",
       "    </tr>\n",
       "    <tr>\n",
       "      <th>50%</th>\n",
       "      <td>70.000000</td>\n",
       "      <td>16.557000</td>\n",
       "      <td>66.242366</td>\n",
       "      <td>350.000000</td>\n",
       "      <td>55.000000</td>\n",
       "    </tr>\n",
       "    <tr>\n",
       "      <th>75%</th>\n",
       "      <td>77.000000</td>\n",
       "      <td>16.759000</td>\n",
       "      <td>68.697804</td>\n",
       "      <td>350.000000</td>\n",
       "      <td>55.000000</td>\n",
       "    </tr>\n",
       "    <tr>\n",
       "      <th>max</th>\n",
       "      <td>90.000000</td>\n",
       "      <td>16.961000</td>\n",
       "      <td>77.317677</td>\n",
       "      <td>350.000000</td>\n",
       "      <td>55.000000</td>\n",
       "    </tr>\n",
       "  </tbody>\n",
       "</table>\n",
       "</div>"
      ],
      "text/plain": [
       "       input_runTime(min)  input_netCannabinoids(%)  output_cannabinoids(%)  \\\n",
       "count           95.000000                 94.000000               93.000000   \n",
       "mean            74.021053                 14.172987               63.603867   \n",
       "std              4.987173                  3.183595                7.593653   \n",
       "min             70.000000                  7.398000               44.514300   \n",
       "25%             70.000000                 11.714000               58.473043   \n",
       "50%             70.000000                 16.557000               66.242366   \n",
       "75%             77.000000                 16.759000               68.697804   \n",
       "max             90.000000                 16.961000               77.317677   \n",
       "\n",
       "       pressure(bar)  temperature(C)  \n",
       "count      95.000000       96.000000  \n",
       "mean      338.315789       54.875000  \n",
       "std        45.239378        0.486664  \n",
       "min       165.000000       53.000000  \n",
       "25%       350.000000       55.000000  \n",
       "50%       350.000000       55.000000  \n",
       "75%       350.000000       55.000000  \n",
       "max       350.000000       55.000000  "
      ]
     },
     "execution_count": 39,
     "metadata": {},
     "output_type": "execute_result"
    }
   ],
   "source": [
    "df_ext_200.describe()"
   ]
  },
  {
   "cell_type": "code",
   "execution_count": 40,
   "metadata": {},
   "outputs": [
    {
     "data": {
      "text/plain": [
       "extractorName               0\n",
       "input_runTime(min)          1\n",
       "input_netCannabinoids(%)    0\n",
       "output_cannabinoids(%)      1\n",
       "pressure(bar)               2\n",
       "temperature(C)              2\n",
       "dtype: int64"
      ]
     },
     "execution_count": 40,
     "metadata": {},
     "output_type": "execute_result"
    }
   ],
   "source": [
    "df_ext_100.isnull().sum()"
   ]
  },
  {
   "cell_type": "code",
   "execution_count": 41,
   "metadata": {},
   "outputs": [
    {
     "data": {
      "text/html": [
       "<div>\n",
       "<style scoped>\n",
       "    .dataframe tbody tr th:only-of-type {\n",
       "        vertical-align: middle;\n",
       "    }\n",
       "\n",
       "    .dataframe tbody tr th {\n",
       "        vertical-align: top;\n",
       "    }\n",
       "\n",
       "    .dataframe thead th {\n",
       "        text-align: right;\n",
       "    }\n",
       "</style>\n",
       "<table border=\"1\" class=\"dataframe\">\n",
       "  <thead>\n",
       "    <tr style=\"text-align: right;\">\n",
       "      <th></th>\n",
       "      <th>extractorName</th>\n",
       "      <th>input_runTime(min)</th>\n",
       "      <th>input_netCannabinoids(%)</th>\n",
       "      <th>output_cannabinoids(%)</th>\n",
       "      <th>pressure(bar)</th>\n",
       "      <th>temperature(C)</th>\n",
       "    </tr>\n",
       "  </thead>\n",
       "  <tbody>\n",
       "    <tr>\n",
       "      <th>38</th>\n",
       "      <td>EXT-100</td>\n",
       "      <td>70.0</td>\n",
       "      <td>11.6520</td>\n",
       "      <td>65.239567</td>\n",
       "      <td>350.0</td>\n",
       "      <td>55.0</td>\n",
       "    </tr>\n",
       "    <tr>\n",
       "      <th>42</th>\n",
       "      <td>EXT-100</td>\n",
       "      <td>80.0</td>\n",
       "      <td>9.8424</td>\n",
       "      <td>58.985108</td>\n",
       "      <td>350.0</td>\n",
       "      <td>55.0</td>\n",
       "    </tr>\n",
       "    <tr>\n",
       "      <th>43</th>\n",
       "      <td>EXT-100</td>\n",
       "      <td>70.0</td>\n",
       "      <td>12.1010</td>\n",
       "      <td>70.655477</td>\n",
       "      <td>350.0</td>\n",
       "      <td>NaN</td>\n",
       "    </tr>\n",
       "    <tr>\n",
       "      <th>44</th>\n",
       "      <td>EXT-100</td>\n",
       "      <td>70.0</td>\n",
       "      <td>13.6670</td>\n",
       "      <td>49.980749</td>\n",
       "      <td>165.0</td>\n",
       "      <td>53.0</td>\n",
       "    </tr>\n",
       "    <tr>\n",
       "      <th>49</th>\n",
       "      <td>EXT-100</td>\n",
       "      <td>70.0</td>\n",
       "      <td>16.5570</td>\n",
       "      <td>70.850940</td>\n",
       "      <td>350.0</td>\n",
       "      <td>55.0</td>\n",
       "    </tr>\n",
       "    <tr>\n",
       "      <th>...</th>\n",
       "      <td>...</td>\n",
       "      <td>...</td>\n",
       "      <td>...</td>\n",
       "      <td>...</td>\n",
       "      <td>...</td>\n",
       "      <td>...</td>\n",
       "    </tr>\n",
       "    <tr>\n",
       "      <th>277</th>\n",
       "      <td>EXT-100</td>\n",
       "      <td>80.0</td>\n",
       "      <td>9.8424</td>\n",
       "      <td>68.293121</td>\n",
       "      <td>350.0</td>\n",
       "      <td>55.0</td>\n",
       "    </tr>\n",
       "    <tr>\n",
       "      <th>278</th>\n",
       "      <td>EXT-100</td>\n",
       "      <td>70.0</td>\n",
       "      <td>11.6520</td>\n",
       "      <td>64.759811</td>\n",
       "      <td>350.0</td>\n",
       "      <td>55.0</td>\n",
       "    </tr>\n",
       "    <tr>\n",
       "      <th>279</th>\n",
       "      <td>EXT-100</td>\n",
       "      <td>70.0</td>\n",
       "      <td>9.8424</td>\n",
       "      <td>55.082794</td>\n",
       "      <td>350.0</td>\n",
       "      <td>55.0</td>\n",
       "    </tr>\n",
       "    <tr>\n",
       "      <th>280</th>\n",
       "      <td>EXT-100</td>\n",
       "      <td>70.0</td>\n",
       "      <td>12.1010</td>\n",
       "      <td>70.873186</td>\n",
       "      <td>350.0</td>\n",
       "      <td>55.0</td>\n",
       "    </tr>\n",
       "    <tr>\n",
       "      <th>281</th>\n",
       "      <td>EXT-100</td>\n",
       "      <td>70.0</td>\n",
       "      <td>12.1010</td>\n",
       "      <td>70.655477</td>\n",
       "      <td>350.0</td>\n",
       "      <td>55.0</td>\n",
       "    </tr>\n",
       "  </tbody>\n",
       "</table>\n",
       "<p>131 rows × 6 columns</p>\n",
       "</div>"
      ],
      "text/plain": [
       "    extractorName  input_runTime(min)  input_netCannabinoids(%)  \\\n",
       "38        EXT-100                70.0                   11.6520   \n",
       "42        EXT-100                80.0                    9.8424   \n",
       "43        EXT-100                70.0                   12.1010   \n",
       "44        EXT-100                70.0                   13.6670   \n",
       "49        EXT-100                70.0                   16.5570   \n",
       "..            ...                 ...                       ...   \n",
       "277       EXT-100                80.0                    9.8424   \n",
       "278       EXT-100                70.0                   11.6520   \n",
       "279       EXT-100                70.0                    9.8424   \n",
       "280       EXT-100                70.0                   12.1010   \n",
       "281       EXT-100                70.0                   12.1010   \n",
       "\n",
       "     output_cannabinoids(%)  pressure(bar)  temperature(C)  \n",
       "38                65.239567          350.0            55.0  \n",
       "42                58.985108          350.0            55.0  \n",
       "43                70.655477          350.0             NaN  \n",
       "44                49.980749          165.0            53.0  \n",
       "49                70.850940          350.0            55.0  \n",
       "..                      ...            ...             ...  \n",
       "277               68.293121          350.0            55.0  \n",
       "278               64.759811          350.0            55.0  \n",
       "279               55.082794          350.0            55.0  \n",
       "280               70.873186          350.0            55.0  \n",
       "281               70.655477          350.0            55.0  \n",
       "\n",
       "[131 rows x 6 columns]"
      ]
     },
     "execution_count": 41,
     "metadata": {},
     "output_type": "execute_result"
    }
   ],
   "source": [
    "df_ext_100"
   ]
  },
  {
   "cell_type": "code",
   "execution_count": 42,
   "metadata": {},
   "outputs": [
    {
     "data": {
      "text/html": [
       "<div>\n",
       "<style scoped>\n",
       "    .dataframe tbody tr th:only-of-type {\n",
       "        vertical-align: middle;\n",
       "    }\n",
       "\n",
       "    .dataframe tbody tr th {\n",
       "        vertical-align: top;\n",
       "    }\n",
       "\n",
       "    .dataframe thead th {\n",
       "        text-align: right;\n",
       "    }\n",
       "</style>\n",
       "<table border=\"1\" class=\"dataframe\">\n",
       "  <thead>\n",
       "    <tr style=\"text-align: right;\">\n",
       "      <th></th>\n",
       "      <th>input_runTime(min)</th>\n",
       "      <th>input_netCannabinoids(%)</th>\n",
       "      <th>output_cannabinoids(%)</th>\n",
       "      <th>pressure(bar)</th>\n",
       "      <th>temperature(C)</th>\n",
       "    </tr>\n",
       "  </thead>\n",
       "  <tbody>\n",
       "    <tr>\n",
       "      <th>count</th>\n",
       "      <td>130.000000</td>\n",
       "      <td>131.000000</td>\n",
       "      <td>130.000000</td>\n",
       "      <td>129.000000</td>\n",
       "      <td>129.000000</td>\n",
       "    </tr>\n",
       "    <tr>\n",
       "      <th>mean</th>\n",
       "      <td>74.330769</td>\n",
       "      <td>13.902922</td>\n",
       "      <td>64.916088</td>\n",
       "      <td>328.488372</td>\n",
       "      <td>54.810853</td>\n",
       "    </tr>\n",
       "    <tr>\n",
       "      <th>std</th>\n",
       "      <td>5.134453</td>\n",
       "      <td>2.834423</td>\n",
       "      <td>7.551672</td>\n",
       "      <td>59.534669</td>\n",
       "      <td>0.952320</td>\n",
       "    </tr>\n",
       "    <tr>\n",
       "      <th>min</th>\n",
       "      <td>70.000000</td>\n",
       "      <td>9.842400</td>\n",
       "      <td>47.278273</td>\n",
       "      <td>165.000000</td>\n",
       "      <td>52.900000</td>\n",
       "    </tr>\n",
       "    <tr>\n",
       "      <th>25%</th>\n",
       "      <td>70.000000</td>\n",
       "      <td>11.652000</td>\n",
       "      <td>58.985108</td>\n",
       "      <td>350.000000</td>\n",
       "      <td>55.000000</td>\n",
       "    </tr>\n",
       "    <tr>\n",
       "      <th>50%</th>\n",
       "      <td>72.000000</td>\n",
       "      <td>12.958000</td>\n",
       "      <td>66.694235</td>\n",
       "      <td>350.000000</td>\n",
       "      <td>55.000000</td>\n",
       "    </tr>\n",
       "    <tr>\n",
       "      <th>75%</th>\n",
       "      <td>80.000000</td>\n",
       "      <td>16.557000</td>\n",
       "      <td>70.640525</td>\n",
       "      <td>350.000000</td>\n",
       "      <td>55.000000</td>\n",
       "    </tr>\n",
       "    <tr>\n",
       "      <th>max</th>\n",
       "      <td>94.000000</td>\n",
       "      <td>18.411000</td>\n",
       "      <td>79.437907</td>\n",
       "      <td>350.000000</td>\n",
       "      <td>62.500000</td>\n",
       "    </tr>\n",
       "  </tbody>\n",
       "</table>\n",
       "</div>"
      ],
      "text/plain": [
       "       input_runTime(min)  input_netCannabinoids(%)  output_cannabinoids(%)  \\\n",
       "count          130.000000                131.000000              130.000000   \n",
       "mean            74.330769                 13.902922               64.916088   \n",
       "std              5.134453                  2.834423                7.551672   \n",
       "min             70.000000                  9.842400               47.278273   \n",
       "25%             70.000000                 11.652000               58.985108   \n",
       "50%             72.000000                 12.958000               66.694235   \n",
       "75%             80.000000                 16.557000               70.640525   \n",
       "max             94.000000                 18.411000               79.437907   \n",
       "\n",
       "       pressure(bar)  temperature(C)  \n",
       "count     129.000000      129.000000  \n",
       "mean      328.488372       54.810853  \n",
       "std        59.534669        0.952320  \n",
       "min       165.000000       52.900000  \n",
       "25%       350.000000       55.000000  \n",
       "50%       350.000000       55.000000  \n",
       "75%       350.000000       55.000000  \n",
       "max       350.000000       62.500000  "
      ]
     },
     "execution_count": 42,
     "metadata": {},
     "output_type": "execute_result"
    }
   ],
   "source": [
    "df_ext_100.describe()"
   ]
  },
  {
   "cell_type": "code",
   "execution_count": 43,
   "metadata": {},
   "outputs": [
    {
     "data": {
      "text/plain": [
       "extractorName               0\n",
       "input_runTime(min)          0\n",
       "input_netCannabinoids(%)    1\n",
       "output_cannabinoids(%)      0\n",
       "pressure(bar)               0\n",
       "temperature(C)              0\n",
       "dtype: int64"
      ]
     },
     "execution_count": 43,
     "metadata": {},
     "output_type": "execute_result"
    }
   ],
   "source": [
    "df_AES.isnull().sum()"
   ]
  },
  {
   "cell_type": "code",
   "execution_count": 44,
   "metadata": {},
   "outputs": [
    {
     "data": {
      "text/html": [
       "<div>\n",
       "<style scoped>\n",
       "    .dataframe tbody tr th:only-of-type {\n",
       "        vertical-align: middle;\n",
       "    }\n",
       "\n",
       "    .dataframe tbody tr th {\n",
       "        vertical-align: top;\n",
       "    }\n",
       "\n",
       "    .dataframe thead th {\n",
       "        text-align: right;\n",
       "    }\n",
       "</style>\n",
       "<table border=\"1\" class=\"dataframe\">\n",
       "  <thead>\n",
       "    <tr style=\"text-align: right;\">\n",
       "      <th></th>\n",
       "      <th>extractorName</th>\n",
       "      <th>input_runTime(min)</th>\n",
       "      <th>input_netCannabinoids(%)</th>\n",
       "      <th>output_cannabinoids(%)</th>\n",
       "      <th>pressure(bar)</th>\n",
       "      <th>temperature(C)</th>\n",
       "    </tr>\n",
       "  </thead>\n",
       "  <tbody>\n",
       "    <tr>\n",
       "      <th>40</th>\n",
       "      <td>AES Extractor</td>\n",
       "      <td>280.0</td>\n",
       "      <td>NaN</td>\n",
       "      <td>63.340741</td>\n",
       "      <td>330.0</td>\n",
       "      <td>70.0</td>\n",
       "    </tr>\n",
       "    <tr>\n",
       "      <th>48</th>\n",
       "      <td>AES Extractor</td>\n",
       "      <td>221.0</td>\n",
       "      <td>11.6520</td>\n",
       "      <td>63.340741</td>\n",
       "      <td>330.0</td>\n",
       "      <td>70.0</td>\n",
       "    </tr>\n",
       "    <tr>\n",
       "      <th>53</th>\n",
       "      <td>AES Extractor</td>\n",
       "      <td>255.0</td>\n",
       "      <td>9.8424</td>\n",
       "      <td>70.272448</td>\n",
       "      <td>340.0</td>\n",
       "      <td>70.0</td>\n",
       "    </tr>\n",
       "    <tr>\n",
       "      <th>54</th>\n",
       "      <td>AES Extractor</td>\n",
       "      <td>320.0</td>\n",
       "      <td>11.6520</td>\n",
       "      <td>67.828425</td>\n",
       "      <td>330.0</td>\n",
       "      <td>80.0</td>\n",
       "    </tr>\n",
       "    <tr>\n",
       "      <th>65</th>\n",
       "      <td>AES Extractor</td>\n",
       "      <td>295.0</td>\n",
       "      <td>9.8424</td>\n",
       "      <td>51.603718</td>\n",
       "      <td>340.0</td>\n",
       "      <td>70.0</td>\n",
       "    </tr>\n",
       "    <tr>\n",
       "      <th>75</th>\n",
       "      <td>AES Extractor</td>\n",
       "      <td>252.0</td>\n",
       "      <td>12.1010</td>\n",
       "      <td>64.370153</td>\n",
       "      <td>340.0</td>\n",
       "      <td>70.0</td>\n",
       "    </tr>\n",
       "    <tr>\n",
       "      <th>92</th>\n",
       "      <td>AES Extractor</td>\n",
       "      <td>317.0</td>\n",
       "      <td>12.1010</td>\n",
       "      <td>69.761393</td>\n",
       "      <td>340.0</td>\n",
       "      <td>70.0</td>\n",
       "    </tr>\n",
       "    <tr>\n",
       "      <th>93</th>\n",
       "      <td>AES Extractor</td>\n",
       "      <td>320.0</td>\n",
       "      <td>11.6520</td>\n",
       "      <td>67.828425</td>\n",
       "      <td>330.0</td>\n",
       "      <td>70.0</td>\n",
       "    </tr>\n",
       "    <tr>\n",
       "      <th>111</th>\n",
       "      <td>AES Extractor</td>\n",
       "      <td>243.0</td>\n",
       "      <td>12.1010</td>\n",
       "      <td>69.761393</td>\n",
       "      <td>340.0</td>\n",
       "      <td>70.0</td>\n",
       "    </tr>\n",
       "    <tr>\n",
       "      <th>142</th>\n",
       "      <td>AES Extractor</td>\n",
       "      <td>320.0</td>\n",
       "      <td>12.1010</td>\n",
       "      <td>71.420657</td>\n",
       "      <td>340.0</td>\n",
       "      <td>70.0</td>\n",
       "    </tr>\n",
       "    <tr>\n",
       "      <th>182</th>\n",
       "      <td>AES Extractor</td>\n",
       "      <td>205.0</td>\n",
       "      <td>12.1010</td>\n",
       "      <td>69.761393</td>\n",
       "      <td>340.0</td>\n",
       "      <td>70.0</td>\n",
       "    </tr>\n",
       "    <tr>\n",
       "      <th>200</th>\n",
       "      <td>AES Extractor</td>\n",
       "      <td>350.0</td>\n",
       "      <td>12.1010</td>\n",
       "      <td>64.370153</td>\n",
       "      <td>340.0</td>\n",
       "      <td>70.0</td>\n",
       "    </tr>\n",
       "    <tr>\n",
       "      <th>205</th>\n",
       "      <td>AES Extractor</td>\n",
       "      <td>318.0</td>\n",
       "      <td>9.8424</td>\n",
       "      <td>70.272448</td>\n",
       "      <td>340.0</td>\n",
       "      <td>70.0</td>\n",
       "    </tr>\n",
       "    <tr>\n",
       "      <th>222</th>\n",
       "      <td>AES Extractor</td>\n",
       "      <td>236.0</td>\n",
       "      <td>11.6520</td>\n",
       "      <td>63.340741</td>\n",
       "      <td>340.0</td>\n",
       "      <td>70.0</td>\n",
       "    </tr>\n",
       "    <tr>\n",
       "      <th>235</th>\n",
       "      <td>AES Extractor</td>\n",
       "      <td>237.0</td>\n",
       "      <td>9.8424</td>\n",
       "      <td>70.272448</td>\n",
       "      <td>340.0</td>\n",
       "      <td>70.0</td>\n",
       "    </tr>\n",
       "    <tr>\n",
       "      <th>239</th>\n",
       "      <td>AES Extractor</td>\n",
       "      <td>282.0</td>\n",
       "      <td>12.9580</td>\n",
       "      <td>57.867811</td>\n",
       "      <td>165.0</td>\n",
       "      <td>70.0</td>\n",
       "    </tr>\n",
       "    <tr>\n",
       "      <th>245</th>\n",
       "      <td>AES Extractor</td>\n",
       "      <td>219.0</td>\n",
       "      <td>12.1010</td>\n",
       "      <td>64.370153</td>\n",
       "      <td>340.0</td>\n",
       "      <td>70.0</td>\n",
       "    </tr>\n",
       "    <tr>\n",
       "      <th>264</th>\n",
       "      <td>AES Extractor</td>\n",
       "      <td>300.0</td>\n",
       "      <td>9.8424</td>\n",
       "      <td>51.603718</td>\n",
       "      <td>340.0</td>\n",
       "      <td>70.0</td>\n",
       "    </tr>\n",
       "  </tbody>\n",
       "</table>\n",
       "</div>"
      ],
      "text/plain": [
       "     extractorName  input_runTime(min)  input_netCannabinoids(%)  \\\n",
       "40   AES Extractor               280.0                       NaN   \n",
       "48   AES Extractor               221.0                   11.6520   \n",
       "53   AES Extractor               255.0                    9.8424   \n",
       "54   AES Extractor               320.0                   11.6520   \n",
       "65   AES Extractor               295.0                    9.8424   \n",
       "75   AES Extractor               252.0                   12.1010   \n",
       "92   AES Extractor               317.0                   12.1010   \n",
       "93   AES Extractor               320.0                   11.6520   \n",
       "111  AES Extractor               243.0                   12.1010   \n",
       "142  AES Extractor               320.0                   12.1010   \n",
       "182  AES Extractor               205.0                   12.1010   \n",
       "200  AES Extractor               350.0                   12.1010   \n",
       "205  AES Extractor               318.0                    9.8424   \n",
       "222  AES Extractor               236.0                   11.6520   \n",
       "235  AES Extractor               237.0                    9.8424   \n",
       "239  AES Extractor               282.0                   12.9580   \n",
       "245  AES Extractor               219.0                   12.1010   \n",
       "264  AES Extractor               300.0                    9.8424   \n",
       "\n",
       "     output_cannabinoids(%)  pressure(bar)  temperature(C)  \n",
       "40                63.340741          330.0            70.0  \n",
       "48                63.340741          330.0            70.0  \n",
       "53                70.272448          340.0            70.0  \n",
       "54                67.828425          330.0            80.0  \n",
       "65                51.603718          340.0            70.0  \n",
       "75                64.370153          340.0            70.0  \n",
       "92                69.761393          340.0            70.0  \n",
       "93                67.828425          330.0            70.0  \n",
       "111               69.761393          340.0            70.0  \n",
       "142               71.420657          340.0            70.0  \n",
       "182               69.761393          340.0            70.0  \n",
       "200               64.370153          340.0            70.0  \n",
       "205               70.272448          340.0            70.0  \n",
       "222               63.340741          340.0            70.0  \n",
       "235               70.272448          340.0            70.0  \n",
       "239               57.867811          165.0            70.0  \n",
       "245               64.370153          340.0            70.0  \n",
       "264               51.603718          340.0            70.0  "
      ]
     },
     "execution_count": 44,
     "metadata": {},
     "output_type": "execute_result"
    }
   ],
   "source": [
    "df_AES"
   ]
  },
  {
   "cell_type": "code",
   "execution_count": 45,
   "metadata": {},
   "outputs": [
    {
     "data": {
      "text/html": [
       "<div>\n",
       "<style scoped>\n",
       "    .dataframe tbody tr th:only-of-type {\n",
       "        vertical-align: middle;\n",
       "    }\n",
       "\n",
       "    .dataframe tbody tr th {\n",
       "        vertical-align: top;\n",
       "    }\n",
       "\n",
       "    .dataframe thead th {\n",
       "        text-align: right;\n",
       "    }\n",
       "</style>\n",
       "<table border=\"1\" class=\"dataframe\">\n",
       "  <thead>\n",
       "    <tr style=\"text-align: right;\">\n",
       "      <th></th>\n",
       "      <th>input_runTime(min)</th>\n",
       "      <th>input_netCannabinoids(%)</th>\n",
       "      <th>output_cannabinoids(%)</th>\n",
       "      <th>pressure(bar)</th>\n",
       "      <th>temperature(C)</th>\n",
       "    </tr>\n",
       "  </thead>\n",
       "  <tbody>\n",
       "    <tr>\n",
       "      <th>count</th>\n",
       "      <td>18.000000</td>\n",
       "      <td>17.000000</td>\n",
       "      <td>18.000000</td>\n",
       "      <td>18.000000</td>\n",
       "      <td>18.000000</td>\n",
       "    </tr>\n",
       "    <tr>\n",
       "      <th>mean</th>\n",
       "      <td>276.111111</td>\n",
       "      <td>11.381471</td>\n",
       "      <td>65.077053</td>\n",
       "      <td>328.055556</td>\n",
       "      <td>70.555556</td>\n",
       "    </tr>\n",
       "    <tr>\n",
       "      <th>std</th>\n",
       "      <td>43.561841</td>\n",
       "      <td>1.067882</td>\n",
       "      <td>6.076788</td>\n",
       "      <td>40.913786</td>\n",
       "      <td>2.357023</td>\n",
       "    </tr>\n",
       "    <tr>\n",
       "      <th>min</th>\n",
       "      <td>205.000000</td>\n",
       "      <td>9.842400</td>\n",
       "      <td>51.603718</td>\n",
       "      <td>165.000000</td>\n",
       "      <td>70.000000</td>\n",
       "    </tr>\n",
       "    <tr>\n",
       "      <th>25%</th>\n",
       "      <td>238.500000</td>\n",
       "      <td>9.842400</td>\n",
       "      <td>63.340741</td>\n",
       "      <td>332.500000</td>\n",
       "      <td>70.000000</td>\n",
       "    </tr>\n",
       "    <tr>\n",
       "      <th>50%</th>\n",
       "      <td>281.000000</td>\n",
       "      <td>11.652000</td>\n",
       "      <td>66.099289</td>\n",
       "      <td>340.000000</td>\n",
       "      <td>70.000000</td>\n",
       "    </tr>\n",
       "    <tr>\n",
       "      <th>75%</th>\n",
       "      <td>317.750000</td>\n",
       "      <td>12.101000</td>\n",
       "      <td>69.761393</td>\n",
       "      <td>340.000000</td>\n",
       "      <td>70.000000</td>\n",
       "    </tr>\n",
       "    <tr>\n",
       "      <th>max</th>\n",
       "      <td>350.000000</td>\n",
       "      <td>12.958000</td>\n",
       "      <td>71.420657</td>\n",
       "      <td>340.000000</td>\n",
       "      <td>80.000000</td>\n",
       "    </tr>\n",
       "  </tbody>\n",
       "</table>\n",
       "</div>"
      ],
      "text/plain": [
       "       input_runTime(min)  input_netCannabinoids(%)  output_cannabinoids(%)  \\\n",
       "count           18.000000                 17.000000               18.000000   \n",
       "mean           276.111111                 11.381471               65.077053   \n",
       "std             43.561841                  1.067882                6.076788   \n",
       "min            205.000000                  9.842400               51.603718   \n",
       "25%            238.500000                  9.842400               63.340741   \n",
       "50%            281.000000                 11.652000               66.099289   \n",
       "75%            317.750000                 12.101000               69.761393   \n",
       "max            350.000000                 12.958000               71.420657   \n",
       "\n",
       "       pressure(bar)  temperature(C)  \n",
       "count      18.000000       18.000000  \n",
       "mean      328.055556       70.555556  \n",
       "std        40.913786        2.357023  \n",
       "min       165.000000       70.000000  \n",
       "25%       332.500000       70.000000  \n",
       "50%       340.000000       70.000000  \n",
       "75%       340.000000       70.000000  \n",
       "max       340.000000       80.000000  "
      ]
     },
     "execution_count": 45,
     "metadata": {},
     "output_type": "execute_result"
    }
   ],
   "source": [
    "df_AES.describe()"
   ]
  },
  {
   "cell_type": "markdown",
   "metadata": {},
   "source": [
    "Since the dataset is small, We can easily check for individual dataframe grouped by extractor names and check in which column the missing value is. I checked for the missing value in the feature column and checked for the descriptive statistics of the individual dataframe. It is safe to replace the missing values in individual dataframe created above, by their respecctive mean. If we look closely we find that for many rows, the values in the feature columns are repeated, hence we can get the idea if the mean would fit correctly for the missing values or not.  "
   ]
  },
  {
   "cell_type": "markdown",
   "metadata": {},
   "source": [
    "We could have also used the K nearest neighbours (which uses the feature similarity to predict the value of a new datapoint) to impute the missing data but given the size of the dataset and knn being computationally expensive, I dropped the idea."
   ]
  },
  {
   "cell_type": "code",
   "execution_count": 46,
   "metadata": {},
   "outputs": [
    {
     "data": {
      "image/png": "[encoded data removed]",
      "text/plain": [
       "<Figure size 864x576 with 2 Axes>"
      ]
     },
     "metadata": {
      "needs_background": "light"
     },
     "output_type": "display_data"
    }
   ],
   "source": [
    "corr_matrix = data.corr()\n",
    "corr_features = corr_matrix.index\n",
    "plt.figure(figsize=(12,8))\n",
    "#plot heat map\n",
    "sns.heatmap(data[corr_features].corr(),annot=True,cmap=\"RdYlGn\");"
   ]
  },
  {
   "cell_type": "markdown",
   "metadata": {},
   "source": [
    "Also, I plotted the correlation matrix to find the correlation between the feature columns. Few features are correlated, but given the data size and size of the missing values, replacement of missing values with the mean made more sense instead of going for stocahstic regression imputation."
   ]
  },
  {
   "cell_type": "code",
   "execution_count": 47,
   "metadata": {},
   "outputs": [
    {
     "name": "stderr",
     "output_type": "stream",
     "text": [
      "/home/chidu/files/anaconda3/lib/python3.7/site-packages/pandas/core/generic.py:6287: SettingWithCopyWarning: \n",
      "A value is trying to be set on a copy of a slice from a DataFrame\n",
      "\n",
      "See the caveats in the documentation: http://pandas.pydata.org/pandas-docs/stable/user_guide/indexing.html#returning-a-view-versus-a-copy\n",
      "  self._update_inplace(new_data)\n"
     ]
    }
   ],
   "source": [
    "#Replacing the missing values with mean\n",
    "df_A.fillna(value=df_A.mean(), inplace=True)\n",
    "df_eden.fillna(value=df_eden.mean(), inplace = True)\n",
    "df_ext_200.fillna(value=df_ext_200.mean(), inplace= True)\n",
    "df_ext_100.fillna(value=df_ext_100.mean(), inplace = True)\n",
    "df_AES.fillna(value=df_AES.mean(), inplace = True)"
   ]
  },
  {
   "cell_type": "code",
   "execution_count": 48,
   "metadata": {},
   "outputs": [],
   "source": [
    "#Now joining all the dataframe into one \n",
    "data_fin = pd.concat([df_A,df_eden, df_ext_200,df_ext_100,df_AES], axis =0)"
   ]
  },
  {
   "cell_type": "code",
   "execution_count": 49,
   "metadata": {},
   "outputs": [
    {
     "data": {
      "text/html": [
       "<div>\n",
       "<style scoped>\n",
       "    .dataframe tbody tr th:only-of-type {\n",
       "        vertical-align: middle;\n",
       "    }\n",
       "\n",
       "    .dataframe tbody tr th {\n",
       "        vertical-align: top;\n",
       "    }\n",
       "\n",
       "    .dataframe thead th {\n",
       "        text-align: right;\n",
       "    }\n",
       "</style>\n",
       "<table border=\"1\" class=\"dataframe\">\n",
       "  <thead>\n",
       "    <tr style=\"text-align: right;\">\n",
       "      <th></th>\n",
       "      <th>extractorName</th>\n",
       "      <th>input_runTime(min)</th>\n",
       "      <th>input_netCannabinoids(%)</th>\n",
       "      <th>output_cannabinoids(%)</th>\n",
       "      <th>pressure(bar)</th>\n",
       "      <th>temperature(C)</th>\n",
       "    </tr>\n",
       "  </thead>\n",
       "  <tbody>\n",
       "    <tr>\n",
       "      <th>0</th>\n",
       "      <td>Extrakt A</td>\n",
       "      <td>100.0</td>\n",
       "      <td>17.7200</td>\n",
       "      <td>52.866274</td>\n",
       "      <td>345.264957</td>\n",
       "      <td>75.542857</td>\n",
       "    </tr>\n",
       "    <tr>\n",
       "      <th>1</th>\n",
       "      <td>Extrakt A</td>\n",
       "      <td>151.0</td>\n",
       "      <td>17.7200</td>\n",
       "      <td>78.422278</td>\n",
       "      <td>346.806428</td>\n",
       "      <td>81.550000</td>\n",
       "    </tr>\n",
       "    <tr>\n",
       "      <th>2</th>\n",
       "      <td>Extrakt A</td>\n",
       "      <td>99.0</td>\n",
       "      <td>16.1580</td>\n",
       "      <td>64.067291</td>\n",
       "      <td>347.742145</td>\n",
       "      <td>75.214286</td>\n",
       "    </tr>\n",
       "    <tr>\n",
       "      <th>3</th>\n",
       "      <td>Extrakt A</td>\n",
       "      <td>96.0</td>\n",
       "      <td>17.7200</td>\n",
       "      <td>52.545082</td>\n",
       "      <td>345.821462</td>\n",
       "      <td>60.142857</td>\n",
       "    </tr>\n",
       "    <tr>\n",
       "      <th>4</th>\n",
       "      <td>Extrakt A</td>\n",
       "      <td>93.0</td>\n",
       "      <td>15.3400</td>\n",
       "      <td>67.794228</td>\n",
       "      <td>346.264697</td>\n",
       "      <td>72.600000</td>\n",
       "    </tr>\n",
       "    <tr>\n",
       "      <th>...</th>\n",
       "      <td>...</td>\n",
       "      <td>...</td>\n",
       "      <td>...</td>\n",
       "      <td>...</td>\n",
       "      <td>...</td>\n",
       "      <td>...</td>\n",
       "    </tr>\n",
       "    <tr>\n",
       "      <th>222</th>\n",
       "      <td>AES Extractor</td>\n",
       "      <td>236.0</td>\n",
       "      <td>11.6520</td>\n",
       "      <td>63.340741</td>\n",
       "      <td>340.000000</td>\n",
       "      <td>70.000000</td>\n",
       "    </tr>\n",
       "    <tr>\n",
       "      <th>235</th>\n",
       "      <td>AES Extractor</td>\n",
       "      <td>237.0</td>\n",
       "      <td>9.8424</td>\n",
       "      <td>70.272448</td>\n",
       "      <td>340.000000</td>\n",
       "      <td>70.000000</td>\n",
       "    </tr>\n",
       "    <tr>\n",
       "      <th>239</th>\n",
       "      <td>AES Extractor</td>\n",
       "      <td>282.0</td>\n",
       "      <td>12.9580</td>\n",
       "      <td>57.867811</td>\n",
       "      <td>165.000000</td>\n",
       "      <td>70.000000</td>\n",
       "    </tr>\n",
       "    <tr>\n",
       "      <th>245</th>\n",
       "      <td>AES Extractor</td>\n",
       "      <td>219.0</td>\n",
       "      <td>12.1010</td>\n",
       "      <td>64.370153</td>\n",
       "      <td>340.000000</td>\n",
       "      <td>70.000000</td>\n",
       "    </tr>\n",
       "    <tr>\n",
       "      <th>264</th>\n",
       "      <td>AES Extractor</td>\n",
       "      <td>300.0</td>\n",
       "      <td>9.8424</td>\n",
       "      <td>51.603718</td>\n",
       "      <td>340.000000</td>\n",
       "      <td>70.000000</td>\n",
       "    </tr>\n",
       "  </tbody>\n",
       "</table>\n",
       "<p>282 rows × 6 columns</p>\n",
       "</div>"
      ],
      "text/plain": [
       "     extractorName  input_runTime(min)  input_netCannabinoids(%)  \\\n",
       "0        Extrakt A               100.0                   17.7200   \n",
       "1        Extrakt A               151.0                   17.7200   \n",
       "2        Extrakt A                99.0                   16.1580   \n",
       "3        Extrakt A                96.0                   17.7200   \n",
       "4        Extrakt A                93.0                   15.3400   \n",
       "..             ...                 ...                       ...   \n",
       "222  AES Extractor               236.0                   11.6520   \n",
       "235  AES Extractor               237.0                    9.8424   \n",
       "239  AES Extractor               282.0                   12.9580   \n",
       "245  AES Extractor               219.0                   12.1010   \n",
       "264  AES Extractor               300.0                    9.8424   \n",
       "\n",
       "     output_cannabinoids(%)  pressure(bar)  temperature(C)  \n",
       "0                 52.866274     345.264957       75.542857  \n",
       "1                 78.422278     346.806428       81.550000  \n",
       "2                 64.067291     347.742145       75.214286  \n",
       "3                 52.545082     345.821462       60.142857  \n",
       "4                 67.794228     346.264697       72.600000  \n",
       "..                      ...            ...             ...  \n",
       "222               63.340741     340.000000       70.000000  \n",
       "235               70.272448     340.000000       70.000000  \n",
       "239               57.867811     165.000000       70.000000  \n",
       "245               64.370153     340.000000       70.000000  \n",
       "264               51.603718     340.000000       70.000000  \n",
       "\n",
       "[282 rows x 6 columns]"
      ]
     },
     "execution_count": 49,
     "metadata": {},
     "output_type": "execute_result"
    }
   ],
   "source": [
    "data_fin"
   ]
  },
  {
   "cell_type": "code",
   "execution_count": 50,
   "metadata": {},
   "outputs": [
    {
     "data": {
      "text/plain": [
       "extractorName               0\n",
       "input_runTime(min)          0\n",
       "input_netCannabinoids(%)    0\n",
       "output_cannabinoids(%)      0\n",
       "pressure(bar)               0\n",
       "temperature(C)              0\n",
       "dtype: int64"
      ]
     },
     "execution_count": 50,
     "metadata": {},
     "output_type": "execute_result"
    }
   ],
   "source": [
    "data_fin.isnull().sum()"
   ]
  },
  {
   "cell_type": "markdown",
   "metadata": {},
   "source": [
    "Since the individual dataframes are added row-wise, I am Reindexing or changing the order of the rows so that there is proper shuffling of the extractor names. "
   ]
  },
  {
   "cell_type": "code",
   "execution_count": 51,
   "metadata": {},
   "outputs": [],
   "source": [
    "data_fin.reset_index(drop=True,inplace=True)"
   ]
  },
  {
   "cell_type": "code",
   "execution_count": 52,
   "metadata": {},
   "outputs": [
    {
     "data": {
      "text/html": [
       "<div>\n",
       "<style scoped>\n",
       "    .dataframe tbody tr th:only-of-type {\n",
       "        vertical-align: middle;\n",
       "    }\n",
       "\n",
       "    .dataframe tbody tr th {\n",
       "        vertical-align: top;\n",
       "    }\n",
       "\n",
       "    .dataframe thead th {\n",
       "        text-align: right;\n",
       "    }\n",
       "</style>\n",
       "<table border=\"1\" class=\"dataframe\">\n",
       "  <thead>\n",
       "    <tr style=\"text-align: right;\">\n",
       "      <th></th>\n",
       "      <th>extractorName</th>\n",
       "      <th>input_runTime(min)</th>\n",
       "      <th>input_netCannabinoids(%)</th>\n",
       "      <th>output_cannabinoids(%)</th>\n",
       "      <th>pressure(bar)</th>\n",
       "      <th>temperature(C)</th>\n",
       "    </tr>\n",
       "  </thead>\n",
       "  <tbody>\n",
       "    <tr>\n",
       "      <th>0</th>\n",
       "      <td>Extrakt A</td>\n",
       "      <td>100.0</td>\n",
       "      <td>17.7200</td>\n",
       "      <td>52.866274</td>\n",
       "      <td>345.264957</td>\n",
       "      <td>75.542857</td>\n",
       "    </tr>\n",
       "    <tr>\n",
       "      <th>1</th>\n",
       "      <td>Extrakt A</td>\n",
       "      <td>151.0</td>\n",
       "      <td>17.7200</td>\n",
       "      <td>78.422278</td>\n",
       "      <td>346.806428</td>\n",
       "      <td>81.550000</td>\n",
       "    </tr>\n",
       "    <tr>\n",
       "      <th>2</th>\n",
       "      <td>Extrakt A</td>\n",
       "      <td>99.0</td>\n",
       "      <td>16.1580</td>\n",
       "      <td>64.067291</td>\n",
       "      <td>347.742145</td>\n",
       "      <td>75.214286</td>\n",
       "    </tr>\n",
       "    <tr>\n",
       "      <th>3</th>\n",
       "      <td>Extrakt A</td>\n",
       "      <td>96.0</td>\n",
       "      <td>17.7200</td>\n",
       "      <td>52.545082</td>\n",
       "      <td>345.821462</td>\n",
       "      <td>60.142857</td>\n",
       "    </tr>\n",
       "    <tr>\n",
       "      <th>4</th>\n",
       "      <td>Extrakt A</td>\n",
       "      <td>93.0</td>\n",
       "      <td>15.3400</td>\n",
       "      <td>67.794228</td>\n",
       "      <td>346.264697</td>\n",
       "      <td>72.600000</td>\n",
       "    </tr>\n",
       "    <tr>\n",
       "      <th>...</th>\n",
       "      <td>...</td>\n",
       "      <td>...</td>\n",
       "      <td>...</td>\n",
       "      <td>...</td>\n",
       "      <td>...</td>\n",
       "      <td>...</td>\n",
       "    </tr>\n",
       "    <tr>\n",
       "      <th>277</th>\n",
       "      <td>AES Extractor</td>\n",
       "      <td>236.0</td>\n",
       "      <td>11.6520</td>\n",
       "      <td>63.340741</td>\n",
       "      <td>340.000000</td>\n",
       "      <td>70.000000</td>\n",
       "    </tr>\n",
       "    <tr>\n",
       "      <th>278</th>\n",
       "      <td>AES Extractor</td>\n",
       "      <td>237.0</td>\n",
       "      <td>9.8424</td>\n",
       "      <td>70.272448</td>\n",
       "      <td>340.000000</td>\n",
       "      <td>70.000000</td>\n",
       "    </tr>\n",
       "    <tr>\n",
       "      <th>279</th>\n",
       "      <td>AES Extractor</td>\n",
       "      <td>282.0</td>\n",
       "      <td>12.9580</td>\n",
       "      <td>57.867811</td>\n",
       "      <td>165.000000</td>\n",
       "      <td>70.000000</td>\n",
       "    </tr>\n",
       "    <tr>\n",
       "      <th>280</th>\n",
       "      <td>AES Extractor</td>\n",
       "      <td>219.0</td>\n",
       "      <td>12.1010</td>\n",
       "      <td>64.370153</td>\n",
       "      <td>340.000000</td>\n",
       "      <td>70.000000</td>\n",
       "    </tr>\n",
       "    <tr>\n",
       "      <th>281</th>\n",
       "      <td>AES Extractor</td>\n",
       "      <td>300.0</td>\n",
       "      <td>9.8424</td>\n",
       "      <td>51.603718</td>\n",
       "      <td>340.000000</td>\n",
       "      <td>70.000000</td>\n",
       "    </tr>\n",
       "  </tbody>\n",
       "</table>\n",
       "<p>282 rows × 6 columns</p>\n",
       "</div>"
      ],
      "text/plain": [
       "     extractorName  input_runTime(min)  input_netCannabinoids(%)  \\\n",
       "0        Extrakt A               100.0                   17.7200   \n",
       "1        Extrakt A               151.0                   17.7200   \n",
       "2        Extrakt A                99.0                   16.1580   \n",
       "3        Extrakt A                96.0                   17.7200   \n",
       "4        Extrakt A                93.0                   15.3400   \n",
       "..             ...                 ...                       ...   \n",
       "277  AES Extractor               236.0                   11.6520   \n",
       "278  AES Extractor               237.0                    9.8424   \n",
       "279  AES Extractor               282.0                   12.9580   \n",
       "280  AES Extractor               219.0                   12.1010   \n",
       "281  AES Extractor               300.0                    9.8424   \n",
       "\n",
       "     output_cannabinoids(%)  pressure(bar)  temperature(C)  \n",
       "0                 52.866274     345.264957       75.542857  \n",
       "1                 78.422278     346.806428       81.550000  \n",
       "2                 64.067291     347.742145       75.214286  \n",
       "3                 52.545082     345.821462       60.142857  \n",
       "4                 67.794228     346.264697       72.600000  \n",
       "..                      ...            ...             ...  \n",
       "277               63.340741     340.000000       70.000000  \n",
       "278               70.272448     340.000000       70.000000  \n",
       "279               57.867811     165.000000       70.000000  \n",
       "280               64.370153     340.000000       70.000000  \n",
       "281               51.603718     340.000000       70.000000  \n",
       "\n",
       "[282 rows x 6 columns]"
      ]
     },
     "execution_count": 52,
     "metadata": {},
     "output_type": "execute_result"
    }
   ],
   "source": [
    "data_fin"
   ]
  },
  {
   "cell_type": "code",
   "execution_count": 53,
   "metadata": {},
   "outputs": [
    {
     "data": {
      "image/png": "[encoded data removed]",
      "text/plain": [
       "<Figure size 720x576 with 2 Axes>"
      ]
     },
     "metadata": {
      "needs_background": "light"
     },
     "output_type": "display_data"
    }
   ],
   "source": [
    "#Correlation matrix for all the features\n",
    "plt.figure(figsize=(10,8))\n",
    "corr_mat = data_fin.apply(lambda x: pd.factorize(x)[0]).corr()\n",
    "ax = sns.heatmap(corr_mat, xticklabels=corr_mat.columns, yticklabels=corr_mat.columns, linewidths=.2, cmap='RdYlGn')"
   ]
  },
  {
   "cell_type": "markdown",
   "metadata": {},
   "source": [
    "From the above correlation_matrix we can see that there is positive strong correlation between pressure and temperature. extractor name has high strong correlation with the cannabinoids output. "
   ]
  },
  {
   "cell_type": "markdown",
   "metadata": {},
   "source": [
    "<b> Feature Selection"
   ]
  },
  {
   "cell_type": "code",
   "execution_count": 54,
   "metadata": {},
   "outputs": [],
   "source": [
    "#converting the categorical column into one-hot encoding\n",
    "category_list = ['extractorName']\n",
    "cat_onehotenc = pd.get_dummies(data_fin[category_list])"
   ]
  },
  {
   "cell_type": "code",
   "execution_count": 55,
   "metadata": {},
   "outputs": [
    {
     "data": {
      "text/html": [
       "<div>\n",
       "<style scoped>\n",
       "    .dataframe tbody tr th:only-of-type {\n",
       "        vertical-align: middle;\n",
       "    }\n",
       "\n",
       "    .dataframe tbody tr th {\n",
       "        vertical-align: top;\n",
       "    }\n",
       "\n",
       "    .dataframe thead th {\n",
       "        text-align: right;\n",
       "    }\n",
       "</style>\n",
       "<table border=\"1\" class=\"dataframe\">\n",
       "  <thead>\n",
       "    <tr style=\"text-align: right;\">\n",
       "      <th></th>\n",
       "      <th>extractorName_AES Extractor</th>\n",
       "      <th>extractorName_EXT-100</th>\n",
       "      <th>extractorName_EXT-200</th>\n",
       "      <th>extractorName_Eden</th>\n",
       "      <th>extractorName_Extrakt A</th>\n",
       "    </tr>\n",
       "  </thead>\n",
       "  <tbody>\n",
       "    <tr>\n",
       "      <th>0</th>\n",
       "      <td>0</td>\n",
       "      <td>0</td>\n",
       "      <td>0</td>\n",
       "      <td>0</td>\n",
       "      <td>1</td>\n",
       "    </tr>\n",
       "    <tr>\n",
       "      <th>1</th>\n",
       "      <td>0</td>\n",
       "      <td>0</td>\n",
       "      <td>0</td>\n",
       "      <td>0</td>\n",
       "      <td>1</td>\n",
       "    </tr>\n",
       "    <tr>\n",
       "      <th>2</th>\n",
       "      <td>0</td>\n",
       "      <td>0</td>\n",
       "      <td>0</td>\n",
       "      <td>0</td>\n",
       "      <td>1</td>\n",
       "    </tr>\n",
       "    <tr>\n",
       "      <th>3</th>\n",
       "      <td>0</td>\n",
       "      <td>0</td>\n",
       "      <td>0</td>\n",
       "      <td>0</td>\n",
       "      <td>1</td>\n",
       "    </tr>\n",
       "    <tr>\n",
       "      <th>4</th>\n",
       "      <td>0</td>\n",
       "      <td>0</td>\n",
       "      <td>0</td>\n",
       "      <td>0</td>\n",
       "      <td>1</td>\n",
       "    </tr>\n",
       "    <tr>\n",
       "      <th>...</th>\n",
       "      <td>...</td>\n",
       "      <td>...</td>\n",
       "      <td>...</td>\n",
       "      <td>...</td>\n",
       "      <td>...</td>\n",
       "    </tr>\n",
       "    <tr>\n",
       "      <th>277</th>\n",
       "      <td>1</td>\n",
       "      <td>0</td>\n",
       "      <td>0</td>\n",
       "      <td>0</td>\n",
       "      <td>0</td>\n",
       "    </tr>\n",
       "    <tr>\n",
       "      <th>278</th>\n",
       "      <td>1</td>\n",
       "      <td>0</td>\n",
       "      <td>0</td>\n",
       "      <td>0</td>\n",
       "      <td>0</td>\n",
       "    </tr>\n",
       "    <tr>\n",
       "      <th>279</th>\n",
       "      <td>1</td>\n",
       "      <td>0</td>\n",
       "      <td>0</td>\n",
       "      <td>0</td>\n",
       "      <td>0</td>\n",
       "    </tr>\n",
       "    <tr>\n",
       "      <th>280</th>\n",
       "      <td>1</td>\n",
       "      <td>0</td>\n",
       "      <td>0</td>\n",
       "      <td>0</td>\n",
       "      <td>0</td>\n",
       "    </tr>\n",
       "    <tr>\n",
       "      <th>281</th>\n",
       "      <td>1</td>\n",
       "      <td>0</td>\n",
       "      <td>0</td>\n",
       "      <td>0</td>\n",
       "      <td>0</td>\n",
       "    </tr>\n",
       "  </tbody>\n",
       "</table>\n",
       "<p>282 rows × 5 columns</p>\n",
       "</div>"
      ],
      "text/plain": [
       "     extractorName_AES Extractor  extractorName_EXT-100  \\\n",
       "0                              0                      0   \n",
       "1                              0                      0   \n",
       "2                              0                      0   \n",
       "3                              0                      0   \n",
       "4                              0                      0   \n",
       "..                           ...                    ...   \n",
       "277                            1                      0   \n",
       "278                            1                      0   \n",
       "279                            1                      0   \n",
       "280                            1                      0   \n",
       "281                            1                      0   \n",
       "\n",
       "     extractorName_EXT-200  extractorName_Eden  extractorName_Extrakt A  \n",
       "0                        0                   0                        1  \n",
       "1                        0                   0                        1  \n",
       "2                        0                   0                        1  \n",
       "3                        0                   0                        1  \n",
       "4                        0                   0                        1  \n",
       "..                     ...                 ...                      ...  \n",
       "277                      0                   0                        0  \n",
       "278                      0                   0                        0  \n",
       "279                      0                   0                        0  \n",
       "280                      0                   0                        0  \n",
       "281                      0                   0                        0  \n",
       "\n",
       "[282 rows x 5 columns]"
      ]
     },
     "execution_count": 55,
     "metadata": {},
     "output_type": "execute_result"
    }
   ],
   "source": [
    "cat_onehotenc"
   ]
  },
  {
   "cell_type": "markdown",
   "metadata": {},
   "source": [
    "Majority of Machine Learning algorithms work well when dealing with features on a same scale.From the above boxplots we have seen the presence of outliers in our dataset. Also from histogram plots above, it is evident that the data is not symmetric and is skewed. That is why I implemented the normalization of data. By doing this, the range of the data becomes less when scaled in a particular range. This makes it easier for the learning algorithms to learn the weight of the parameters. Also it keeps the useful information about the outliers and makes the algorithm less sensitive to them. Outliers become much more problem for a small dataset and hence I used the normalization method to avoid it."
   ]
  },
  {
   "cell_type": "code",
   "execution_count": 56,
   "metadata": {},
   "outputs": [],
   "source": [
    "from sklearn.preprocessing import MinMaxScaler\n",
    "num_list = ['input_runTime(min)','input_netCannabinoids(%)','output_cannabinoids(%)','pressure(bar)','temperature(C)']\n",
    "scaler = MinMaxScaler()\n",
    "data_scaled = pd.DataFrame(data=scaler.fit_transform(data_fin[num_list]), columns=num_list)"
   ]
  },
  {
   "cell_type": "code",
   "execution_count": 57,
   "metadata": {},
   "outputs": [
    {
     "data": {
      "text/html": [
       "<div>\n",
       "<style scoped>\n",
       "    .dataframe tbody tr th:only-of-type {\n",
       "        vertical-align: middle;\n",
       "    }\n",
       "\n",
       "    .dataframe tbody tr th {\n",
       "        vertical-align: top;\n",
       "    }\n",
       "\n",
       "    .dataframe thead th {\n",
       "        text-align: right;\n",
       "    }\n",
       "</style>\n",
       "<table border=\"1\" class=\"dataframe\">\n",
       "  <thead>\n",
       "    <tr style=\"text-align: right;\">\n",
       "      <th></th>\n",
       "      <th>input_runTime(min)</th>\n",
       "      <th>input_netCannabinoids(%)</th>\n",
       "      <th>output_cannabinoids(%)</th>\n",
       "      <th>pressure(bar)</th>\n",
       "      <th>temperature(C)</th>\n",
       "    </tr>\n",
       "  </thead>\n",
       "  <tbody>\n",
       "    <tr>\n",
       "      <th>0</th>\n",
       "      <td>0.0240</td>\n",
       "      <td>0.937256</td>\n",
       "      <td>0.574416</td>\n",
       "      <td>0.982033</td>\n",
       "      <td>0.874254</td>\n",
       "    </tr>\n",
       "    <tr>\n",
       "      <th>1</th>\n",
       "      <td>0.0648</td>\n",
       "      <td>0.937256</td>\n",
       "      <td>0.875693</td>\n",
       "      <td>0.987882</td>\n",
       "      <td>1.000000</td>\n",
       "    </tr>\n",
       "    <tr>\n",
       "      <th>2</th>\n",
       "      <td>0.0232</td>\n",
       "      <td>0.795424</td>\n",
       "      <td>0.706463</td>\n",
       "      <td>0.991433</td>\n",
       "      <td>0.867377</td>\n",
       "    </tr>\n",
       "    <tr>\n",
       "      <th>3</th>\n",
       "      <td>0.0208</td>\n",
       "      <td>0.937256</td>\n",
       "      <td>0.570629</td>\n",
       "      <td>0.984145</td>\n",
       "      <td>0.551891</td>\n",
       "    </tr>\n",
       "    <tr>\n",
       "      <th>4</th>\n",
       "      <td>0.0184</td>\n",
       "      <td>0.721148</td>\n",
       "      <td>0.750400</td>\n",
       "      <td>0.985826</td>\n",
       "      <td>0.812653</td>\n",
       "    </tr>\n",
       "    <tr>\n",
       "      <th>...</th>\n",
       "      <td>...</td>\n",
       "      <td>...</td>\n",
       "      <td>...</td>\n",
       "      <td>...</td>\n",
       "      <td>...</td>\n",
       "    </tr>\n",
       "    <tr>\n",
       "      <th>277</th>\n",
       "      <td>0.1328</td>\n",
       "      <td>0.386271</td>\n",
       "      <td>0.697898</td>\n",
       "      <td>0.962055</td>\n",
       "      <td>0.758228</td>\n",
       "    </tr>\n",
       "    <tr>\n",
       "      <th>278</th>\n",
       "      <td>0.1336</td>\n",
       "      <td>0.221956</td>\n",
       "      <td>0.779615</td>\n",
       "      <td>0.962055</td>\n",
       "      <td>0.758228</td>\n",
       "    </tr>\n",
       "    <tr>\n",
       "      <th>279</th>\n",
       "      <td>0.1696</td>\n",
       "      <td>0.504858</td>\n",
       "      <td>0.633378</td>\n",
       "      <td>0.298019</td>\n",
       "      <td>0.758228</td>\n",
       "    </tr>\n",
       "    <tr>\n",
       "      <th>280</th>\n",
       "      <td>0.1192</td>\n",
       "      <td>0.427041</td>\n",
       "      <td>0.710034</td>\n",
       "      <td>0.962055</td>\n",
       "      <td>0.758228</td>\n",
       "    </tr>\n",
       "    <tr>\n",
       "      <th>281</th>\n",
       "      <td>0.1840</td>\n",
       "      <td>0.221956</td>\n",
       "      <td>0.559532</td>\n",
       "      <td>0.962055</td>\n",
       "      <td>0.758228</td>\n",
       "    </tr>\n",
       "  </tbody>\n",
       "</table>\n",
       "<p>282 rows × 5 columns</p>\n",
       "</div>"
      ],
      "text/plain": [
       "     input_runTime(min)  input_netCannabinoids(%)  output_cannabinoids(%)  \\\n",
       "0                0.0240                  0.937256                0.574416   \n",
       "1                0.0648                  0.937256                0.875693   \n",
       "2                0.0232                  0.795424                0.706463   \n",
       "3                0.0208                  0.937256                0.570629   \n",
       "4                0.0184                  0.721148                0.750400   \n",
       "..                  ...                       ...                     ...   \n",
       "277              0.1328                  0.386271                0.697898   \n",
       "278              0.1336                  0.221956                0.779615   \n",
       "279              0.1696                  0.504858                0.633378   \n",
       "280              0.1192                  0.427041                0.710034   \n",
       "281              0.1840                  0.221956                0.559532   \n",
       "\n",
       "     pressure(bar)  temperature(C)  \n",
       "0         0.982033        0.874254  \n",
       "1         0.987882        1.000000  \n",
       "2         0.991433        0.867377  \n",
       "3         0.984145        0.551891  \n",
       "4         0.985826        0.812653  \n",
       "..             ...             ...  \n",
       "277       0.962055        0.758228  \n",
       "278       0.962055        0.758228  \n",
       "279       0.298019        0.758228  \n",
       "280       0.962055        0.758228  \n",
       "281       0.962055        0.758228  \n",
       "\n",
       "[282 rows x 5 columns]"
      ]
     },
     "execution_count": 57,
     "metadata": {},
     "output_type": "execute_result"
    }
   ],
   "source": [
    "data_scaled"
   ]
  },
  {
   "cell_type": "code",
   "execution_count": 58,
   "metadata": {},
   "outputs": [],
   "source": [
    "#Joining the one hot encoded and scaled dataset\n",
    "df_join = pd.concat([cat_onehotenc,data_scaled], axis=1)"
   ]
  },
  {
   "cell_type": "code",
   "execution_count": 59,
   "metadata": {},
   "outputs": [
    {
     "name": "stdout",
     "output_type": "stream",
     "text": [
      "<class 'pandas.core.frame.DataFrame'>\n",
      "RangeIndex: 282 entries, 0 to 281\n",
      "Data columns (total 10 columns):\n",
      "extractorName_AES Extractor    282 non-null uint8\n",
      "extractorName_EXT-100          282 non-null uint8\n",
      "extractorName_EXT-200          282 non-null uint8\n",
      "extractorName_Eden             282 non-null uint8\n",
      "extractorName_Extrakt A        282 non-null uint8\n",
      "input_runTime(min)             282 non-null float64\n",
      "input_netCannabinoids(%)       282 non-null float64\n",
      "output_cannabinoids(%)         282 non-null float64\n",
      "pressure(bar)                  282 non-null float64\n",
      "temperature(C)                 282 non-null float64\n",
      "dtypes: float64(5), uint8(5)\n",
      "memory usage: 12.5 KB\n"
     ]
    }
   ],
   "source": [
    "df_join.info()"
   ]
  },
  {
   "cell_type": "code",
   "execution_count": 60,
   "metadata": {},
   "outputs": [
    {
     "data": {
      "image/png": "[encoded data removed]",
      "text/plain": [
       "<Figure size 720x576 with 1 Axes>"
      ]
     },
     "metadata": {
      "needs_background": "light"
     },
     "output_type": "display_data"
    }
   ],
   "source": [
    "plt.figure(figsize=(10,8))\n",
    "ax = df_join.corr()['output_cannabinoids(%)'].sort_values(ascending = False)\n",
    "ax.plot(kind='bar', width=0.2)\n",
    "plt.title('Correlation between input variables and Target output', fontsize=15)\n",
    "plt.xlabel(\"Feature names\", fontsize=15)\n",
    "plt.ylabel(\"Correlation Scores\", fontsize=15) \n",
    "plt.grid()\n",
    "plt.xticks(rotation=90);"
   ]
  },
  {
   "cell_type": "code",
   "execution_count": 61,
   "metadata": {},
   "outputs": [],
   "source": [
    "X = df_join.drop(columns='output_cannabinoids(%)')\n",
    "y = df_join['output_cannabinoids(%)']\n"
   ]
  },
  {
   "cell_type": "code",
   "execution_count": 62,
   "metadata": {},
   "outputs": [],
   "source": [
    "#Using the Univariate linear regression tests \n",
    "from sklearn.feature_selection import f_regression\n",
    "fval, pval =f_regression(X,y,center=True)"
   ]
  },
  {
   "cell_type": "code",
   "execution_count": 63,
   "metadata": {},
   "outputs": [],
   "source": [
    "df_fscore = pd.DataFrame(fval)\n",
    "df_pval = pd.DataFrame(pval)\n",
    "df_columns = pd.DataFrame(X.columns)\n",
    "featureScores = pd.concat([df_columns,df_fscore,df_pval],axis=1)\n",
    "featureScores.columns = ['features','F-score','p-value'] "
   ]
  },
  {
   "cell_type": "code",
   "execution_count": 64,
   "metadata": {},
   "outputs": [
    {
     "data": {
      "text/html": [
       "<div>\n",
       "<style scoped>\n",
       "    .dataframe tbody tr th:only-of-type {\n",
       "        vertical-align: middle;\n",
       "    }\n",
       "\n",
       "    .dataframe tbody tr th {\n",
       "        vertical-align: top;\n",
       "    }\n",
       "\n",
       "    .dataframe thead th {\n",
       "        text-align: right;\n",
       "    }\n",
       "</style>\n",
       "<table border=\"1\" class=\"dataframe\">\n",
       "  <thead>\n",
       "    <tr style=\"text-align: right;\">\n",
       "      <th></th>\n",
       "      <th>features</th>\n",
       "      <th>F-score</th>\n",
       "      <th>p-value</th>\n",
       "    </tr>\n",
       "  </thead>\n",
       "  <tbody>\n",
       "    <tr>\n",
       "      <th>2</th>\n",
       "      <td>extractorName_EXT-200</td>\n",
       "      <td>0.360782</td>\n",
       "      <td>5.485581e-01</td>\n",
       "    </tr>\n",
       "    <tr>\n",
       "      <th>0</th>\n",
       "      <td>extractorName_AES Extractor</td>\n",
       "      <td>0.579527</td>\n",
       "      <td>4.471384e-01</td>\n",
       "    </tr>\n",
       "    <tr>\n",
       "      <th>1</th>\n",
       "      <td>extractorName_EXT-100</td>\n",
       "      <td>6.399642</td>\n",
       "      <td>1.196306e-02</td>\n",
       "    </tr>\n",
       "    <tr>\n",
       "      <th>4</th>\n",
       "      <td>extractorName_Extrakt A</td>\n",
       "      <td>12.101796</td>\n",
       "      <td>5.839339e-04</td>\n",
       "    </tr>\n",
       "    <tr>\n",
       "      <th>8</th>\n",
       "      <td>temperature(C)</td>\n",
       "      <td>42.702107</td>\n",
       "      <td>3.002263e-10</td>\n",
       "    </tr>\n",
       "    <tr>\n",
       "      <th>6</th>\n",
       "      <td>input_netCannabinoids(%)</td>\n",
       "      <td>75.890134</td>\n",
       "      <td>2.666377e-16</td>\n",
       "    </tr>\n",
       "    <tr>\n",
       "      <th>7</th>\n",
       "      <td>pressure(bar)</td>\n",
       "      <td>100.536077</td>\n",
       "      <td>2.039523e-20</td>\n",
       "    </tr>\n",
       "    <tr>\n",
       "      <th>5</th>\n",
       "      <td>input_runTime(min)</td>\n",
       "      <td>125.373125</td>\n",
       "      <td>2.703057e-24</td>\n",
       "    </tr>\n",
       "    <tr>\n",
       "      <th>3</th>\n",
       "      <td>extractorName_Eden</td>\n",
       "      <td>270.095416</td>\n",
       "      <td>5.910882e-43</td>\n",
       "    </tr>\n",
       "  </tbody>\n",
       "</table>\n",
       "</div>"
      ],
      "text/plain": [
       "                      features     F-score       p-value\n",
       "2        extractorName_EXT-200    0.360782  5.485581e-01\n",
       "0  extractorName_AES Extractor    0.579527  4.471384e-01\n",
       "1        extractorName_EXT-100    6.399642  1.196306e-02\n",
       "4      extractorName_Extrakt A   12.101796  5.839339e-04\n",
       "8               temperature(C)   42.702107  3.002263e-10\n",
       "6     input_netCannabinoids(%)   75.890134  2.666377e-16\n",
       "7                pressure(bar)  100.536077  2.039523e-20\n",
       "5           input_runTime(min)  125.373125  2.703057e-24\n",
       "3           extractorName_Eden  270.095416  5.910882e-43"
      ]
     },
     "execution_count": 64,
     "metadata": {},
     "output_type": "execute_result"
    }
   ],
   "source": [
    "featureScores.sort_values(by ='p-value', ascending=False)"
   ]
  },
  {
   "cell_type": "markdown",
   "metadata": {},
   "source": [
    "if we consider the significance level (alpha) to be 0.05, we find that maximum of the features have a p-value less than 0.05. Which means we can reject the null Hypothesis which states the feature is not statistically significant. Only for AES Extractor, and EXT-200 the p-value is higher than 0.05. But since the pvalue for other extractor names is below the significant level, this indicates that the extractor names are significant to the model and thus cant be omitted.  "
   ]
  },
  {
   "cell_type": "code",
   "execution_count": 65,
   "metadata": {},
   "outputs": [],
   "source": [
    "# Using Recursive Feature Elimination method for finding the best combination of features\n",
    "from sklearn import svm\n",
    "from sklearn.feature_selection import RFE\n",
    "estimator = svm.SVR(kernel=\"linear\")\n",
    "# using the n_features_to_select as 6\n",
    "rfe = RFE(estimator,n_features_to_select =6, step=1)\n",
    "rfe_fit=rfe.fit(X,y)"
   ]
  },
  {
   "cell_type": "code",
   "execution_count": 66,
   "metadata": {},
   "outputs": [
    {
     "data": {
      "text/plain": [
       "RFE(estimator=SVR(C=1.0, cache_size=200, coef0=0.0, degree=3, epsilon=0.1,\n",
       "                  gamma='scale', kernel='linear', max_iter=-1, shrinking=True,\n",
       "                  tol=0.001, verbose=False),\n",
       "    n_features_to_select=6, step=1, verbose=0)"
      ]
     },
     "execution_count": 66,
     "metadata": {},
     "output_type": "execute_result"
    }
   ],
   "source": [
    "rfe_fit"
   ]
  },
  {
   "cell_type": "code",
   "execution_count": 67,
   "metadata": {},
   "outputs": [
    {
     "name": "stdout",
     "output_type": "stream",
     "text": [
      "6\n"
     ]
    }
   ],
   "source": [
    "# No of features selected by Recursive Feature Elimination(RFE)\n",
    "print(rfe_fit.n_features_)"
   ]
  },
  {
   "cell_type": "code",
   "execution_count": 68,
   "metadata": {},
   "outputs": [],
   "source": [
    "df1_features = pd.DataFrame(rfe_fit.support_)\n",
    "df1_columns = pd.DataFrame(X.columns)\n",
    "df1_ranks = pd.DataFrame(rfe_fit.ranking_)\n",
    "featureScores_rfe = pd.concat([df1_columns,df1_features,df1_ranks],axis=1)\n",
    "featureScores_rfe.columns = ['features','Support', 'Ranking'] "
   ]
  },
  {
   "cell_type": "code",
   "execution_count": 69,
   "metadata": {},
   "outputs": [
    {
     "data": {
      "text/html": [
       "<div>\n",
       "<style scoped>\n",
       "    .dataframe tbody tr th:only-of-type {\n",
       "        vertical-align: middle;\n",
       "    }\n",
       "\n",
       "    .dataframe tbody tr th {\n",
       "        vertical-align: top;\n",
       "    }\n",
       "\n",
       "    .dataframe thead th {\n",
       "        text-align: right;\n",
       "    }\n",
       "</style>\n",
       "<table border=\"1\" class=\"dataframe\">\n",
       "  <thead>\n",
       "    <tr style=\"text-align: right;\">\n",
       "      <th></th>\n",
       "      <th>features</th>\n",
       "      <th>Support</th>\n",
       "      <th>Ranking</th>\n",
       "    </tr>\n",
       "  </thead>\n",
       "  <tbody>\n",
       "    <tr>\n",
       "      <th>0</th>\n",
       "      <td>extractorName_AES Extractor</td>\n",
       "      <td>False</td>\n",
       "      <td>2</td>\n",
       "    </tr>\n",
       "    <tr>\n",
       "      <th>1</th>\n",
       "      <td>extractorName_EXT-100</td>\n",
       "      <td>True</td>\n",
       "      <td>1</td>\n",
       "    </tr>\n",
       "    <tr>\n",
       "      <th>2</th>\n",
       "      <td>extractorName_EXT-200</td>\n",
       "      <td>True</td>\n",
       "      <td>1</td>\n",
       "    </tr>\n",
       "    <tr>\n",
       "      <th>3</th>\n",
       "      <td>extractorName_Eden</td>\n",
       "      <td>True</td>\n",
       "      <td>1</td>\n",
       "    </tr>\n",
       "    <tr>\n",
       "      <th>4</th>\n",
       "      <td>extractorName_Extrakt A</td>\n",
       "      <td>True</td>\n",
       "      <td>1</td>\n",
       "    </tr>\n",
       "    <tr>\n",
       "      <th>5</th>\n",
       "      <td>input_runTime(min)</td>\n",
       "      <td>True</td>\n",
       "      <td>1</td>\n",
       "    </tr>\n",
       "    <tr>\n",
       "      <th>6</th>\n",
       "      <td>input_netCannabinoids(%)</td>\n",
       "      <td>True</td>\n",
       "      <td>1</td>\n",
       "    </tr>\n",
       "    <tr>\n",
       "      <th>7</th>\n",
       "      <td>pressure(bar)</td>\n",
       "      <td>False</td>\n",
       "      <td>3</td>\n",
       "    </tr>\n",
       "    <tr>\n",
       "      <th>8</th>\n",
       "      <td>temperature(C)</td>\n",
       "      <td>False</td>\n",
       "      <td>4</td>\n",
       "    </tr>\n",
       "  </tbody>\n",
       "</table>\n",
       "</div>"
      ],
      "text/plain": [
       "                      features  Support  Ranking\n",
       "0  extractorName_AES Extractor    False        2\n",
       "1        extractorName_EXT-100     True        1\n",
       "2        extractorName_EXT-200     True        1\n",
       "3           extractorName_Eden     True        1\n",
       "4      extractorName_Extrakt A     True        1\n",
       "5           input_runTime(min)     True        1\n",
       "6     input_netCannabinoids(%)     True        1\n",
       "7                pressure(bar)    False        3\n",
       "8               temperature(C)    False        4"
      ]
     },
     "execution_count": 69,
     "metadata": {},
     "output_type": "execute_result"
    }
   ],
   "source": [
    "featureScores_rfe"
   ]
  },
  {
   "cell_type": "markdown",
   "metadata": {},
   "source": [
    "In RFE, first the estimator(in this case SVR) is trained on the initial set of features and the importance of each feature is obtained.It works by recursively removing features and building a model on those features that remain. It uses the model accuracy to identify which features or the combination of features, contribute the most to predicting the target. \n"
   ]
  },
  {
   "cell_type": "markdown",
   "metadata": {},
   "source": [
    "Choosing 6 as the features to select, we see the RFE method shows that the features 'pressure' and 'temperature' is not so significant for predicting the cannabinoids output. Or may be the one-hot-encoded categorical features dominate over these two features, making the significance less. RFE basically chooses the combination of features which fit best for the model. In this case I have used the estimator as SVR.   "
   ]
  },
  {
   "cell_type": "code",
   "execution_count": 70,
   "metadata": {},
   "outputs": [],
   "source": [
    "from sklearn.linear_model import LinearRegression\n",
    "lr = LinearRegression()\n",
    "rfe = RFE(lr, n_features_to_select=6)\n",
    "rfe_lr = rfe.fit(X,y)"
   ]
  },
  {
   "cell_type": "code",
   "execution_count": 71,
   "metadata": {},
   "outputs": [
    {
     "data": {
      "text/plain": [
       "6"
      ]
     },
     "execution_count": 71,
     "metadata": {},
     "output_type": "execute_result"
    }
   ],
   "source": [
    "rfe_lr.n_features_"
   ]
  },
  {
   "cell_type": "code",
   "execution_count": 72,
   "metadata": {},
   "outputs": [],
   "source": [
    "df2_features = pd.DataFrame(rfe_lr.support_)\n",
    "df2_columns = pd.DataFrame(X.columns)\n",
    "df2_ranks = pd.DataFrame(rfe_lr.ranking_)\n",
    "featureScores_rfe_lr = pd.concat([df2_columns,df2_features,df2_ranks],axis=1)\n",
    "featureScores_rfe_lr.columns = ['features','Support', 'Ranking'] "
   ]
  },
  {
   "cell_type": "code",
   "execution_count": 73,
   "metadata": {},
   "outputs": [
    {
     "data": {
      "text/html": [
       "<div>\n",
       "<style scoped>\n",
       "    .dataframe tbody tr th:only-of-type {\n",
       "        vertical-align: middle;\n",
       "    }\n",
       "\n",
       "    .dataframe tbody tr th {\n",
       "        vertical-align: top;\n",
       "    }\n",
       "\n",
       "    .dataframe thead th {\n",
       "        text-align: right;\n",
       "    }\n",
       "</style>\n",
       "<table border=\"1\" class=\"dataframe\">\n",
       "  <thead>\n",
       "    <tr style=\"text-align: right;\">\n",
       "      <th></th>\n",
       "      <th>features</th>\n",
       "      <th>Support</th>\n",
       "      <th>Ranking</th>\n",
       "    </tr>\n",
       "  </thead>\n",
       "  <tbody>\n",
       "    <tr>\n",
       "      <th>0</th>\n",
       "      <td>extractorName_AES Extractor</td>\n",
       "      <td>True</td>\n",
       "      <td>1</td>\n",
       "    </tr>\n",
       "    <tr>\n",
       "      <th>1</th>\n",
       "      <td>extractorName_EXT-100</td>\n",
       "      <td>False</td>\n",
       "      <td>2</td>\n",
       "    </tr>\n",
       "    <tr>\n",
       "      <th>2</th>\n",
       "      <td>extractorName_EXT-200</td>\n",
       "      <td>False</td>\n",
       "      <td>3</td>\n",
       "    </tr>\n",
       "    <tr>\n",
       "      <th>3</th>\n",
       "      <td>extractorName_Eden</td>\n",
       "      <td>True</td>\n",
       "      <td>1</td>\n",
       "    </tr>\n",
       "    <tr>\n",
       "      <th>4</th>\n",
       "      <td>extractorName_Extrakt A</td>\n",
       "      <td>True</td>\n",
       "      <td>1</td>\n",
       "    </tr>\n",
       "    <tr>\n",
       "      <th>5</th>\n",
       "      <td>input_runTime(min)</td>\n",
       "      <td>True</td>\n",
       "      <td>1</td>\n",
       "    </tr>\n",
       "    <tr>\n",
       "      <th>6</th>\n",
       "      <td>input_netCannabinoids(%)</td>\n",
       "      <td>True</td>\n",
       "      <td>1</td>\n",
       "    </tr>\n",
       "    <tr>\n",
       "      <th>7</th>\n",
       "      <td>pressure(bar)</td>\n",
       "      <td>False</td>\n",
       "      <td>4</td>\n",
       "    </tr>\n",
       "    <tr>\n",
       "      <th>8</th>\n",
       "      <td>temperature(C)</td>\n",
       "      <td>True</td>\n",
       "      <td>1</td>\n",
       "    </tr>\n",
       "  </tbody>\n",
       "</table>\n",
       "</div>"
      ],
      "text/plain": [
       "                      features  Support  Ranking\n",
       "0  extractorName_AES Extractor     True        1\n",
       "1        extractorName_EXT-100    False        2\n",
       "2        extractorName_EXT-200    False        3\n",
       "3           extractorName_Eden     True        1\n",
       "4      extractorName_Extrakt A     True        1\n",
       "5           input_runTime(min)     True        1\n",
       "6     input_netCannabinoids(%)     True        1\n",
       "7                pressure(bar)    False        4\n",
       "8               temperature(C)     True        1"
      ]
     },
     "execution_count": 73,
     "metadata": {},
     "output_type": "execute_result"
    }
   ],
   "source": [
    "featureScores_rfe_lr"
   ]
  },
  {
   "cell_type": "markdown",
   "metadata": {},
   "source": [
    "If we consider Liner regression as the estimator, features obtained are different as compared to SVR. However both the estimators show that the pressure and temperature are not significant when used in a combination of features for predicting the output. However if we test the correlation and F-test we find that the pressure and temperature have a significance. F-score/ p-value is testing the individual effect of the regressors for the target output. RFE considers the significance of the combination of features when used in combination. "
   ]
  },
  {
   "cell_type": "markdown",
   "metadata": {},
   "source": [
    "So I thought of checking wether the extractor name play a significant role or is pressure and temperature do not play a significant role while used in combination of features. So i tested the RFE method once again, This time removing the extractorName feature from the dataset"
   ]
  },
  {
   "cell_type": "code",
   "execution_count": 74,
   "metadata": {},
   "outputs": [],
   "source": [
    "k=data['extractorName']"
   ]
  },
  {
   "cell_type": "code",
   "execution_count": 75,
   "metadata": {},
   "outputs": [],
   "source": [
    "df_norm = pd.concat([k,data_scaled], axis =1)"
   ]
  },
  {
   "cell_type": "code",
   "execution_count": 76,
   "metadata": {},
   "outputs": [
    {
     "data": {
      "text/html": [
       "<div>\n",
       "<style scoped>\n",
       "    .dataframe tbody tr th:only-of-type {\n",
       "        vertical-align: middle;\n",
       "    }\n",
       "\n",
       "    .dataframe tbody tr th {\n",
       "        vertical-align: top;\n",
       "    }\n",
       "\n",
       "    .dataframe thead th {\n",
       "        text-align: right;\n",
       "    }\n",
       "</style>\n",
       "<table border=\"1\" class=\"dataframe\">\n",
       "  <thead>\n",
       "    <tr style=\"text-align: right;\">\n",
       "      <th></th>\n",
       "      <th>extractorName</th>\n",
       "      <th>input_runTime(min)</th>\n",
       "      <th>input_netCannabinoids(%)</th>\n",
       "      <th>output_cannabinoids(%)</th>\n",
       "      <th>pressure(bar)</th>\n",
       "      <th>temperature(C)</th>\n",
       "    </tr>\n",
       "  </thead>\n",
       "  <tbody>\n",
       "    <tr>\n",
       "      <th>0</th>\n",
       "      <td>Extrakt A</td>\n",
       "      <td>0.0240</td>\n",
       "      <td>0.937256</td>\n",
       "      <td>0.574416</td>\n",
       "      <td>0.982033</td>\n",
       "      <td>0.874254</td>\n",
       "    </tr>\n",
       "    <tr>\n",
       "      <th>1</th>\n",
       "      <td>Extrakt A</td>\n",
       "      <td>0.0648</td>\n",
       "      <td>0.937256</td>\n",
       "      <td>0.875693</td>\n",
       "      <td>0.987882</td>\n",
       "      <td>1.000000</td>\n",
       "    </tr>\n",
       "    <tr>\n",
       "      <th>2</th>\n",
       "      <td>Extrakt A</td>\n",
       "      <td>0.0232</td>\n",
       "      <td>0.795424</td>\n",
       "      <td>0.706463</td>\n",
       "      <td>0.991433</td>\n",
       "      <td>0.867377</td>\n",
       "    </tr>\n",
       "    <tr>\n",
       "      <th>3</th>\n",
       "      <td>Extrakt A</td>\n",
       "      <td>0.0208</td>\n",
       "      <td>0.937256</td>\n",
       "      <td>0.570629</td>\n",
       "      <td>0.984145</td>\n",
       "      <td>0.551891</td>\n",
       "    </tr>\n",
       "    <tr>\n",
       "      <th>4</th>\n",
       "      <td>Extrakt A</td>\n",
       "      <td>0.0184</td>\n",
       "      <td>0.721148</td>\n",
       "      <td>0.750400</td>\n",
       "      <td>0.985826</td>\n",
       "      <td>0.812653</td>\n",
       "    </tr>\n",
       "    <tr>\n",
       "      <th>...</th>\n",
       "      <td>...</td>\n",
       "      <td>...</td>\n",
       "      <td>...</td>\n",
       "      <td>...</td>\n",
       "      <td>...</td>\n",
       "      <td>...</td>\n",
       "    </tr>\n",
       "    <tr>\n",
       "      <th>277</th>\n",
       "      <td>EXT-100</td>\n",
       "      <td>0.1328</td>\n",
       "      <td>0.386271</td>\n",
       "      <td>0.697898</td>\n",
       "      <td>0.962055</td>\n",
       "      <td>0.758228</td>\n",
       "    </tr>\n",
       "    <tr>\n",
       "      <th>278</th>\n",
       "      <td>EXT-100</td>\n",
       "      <td>0.1336</td>\n",
       "      <td>0.221956</td>\n",
       "      <td>0.779615</td>\n",
       "      <td>0.962055</td>\n",
       "      <td>0.758228</td>\n",
       "    </tr>\n",
       "    <tr>\n",
       "      <th>279</th>\n",
       "      <td>EXT-100</td>\n",
       "      <td>0.1696</td>\n",
       "      <td>0.504858</td>\n",
       "      <td>0.633378</td>\n",
       "      <td>0.298019</td>\n",
       "      <td>0.758228</td>\n",
       "    </tr>\n",
       "    <tr>\n",
       "      <th>280</th>\n",
       "      <td>EXT-100</td>\n",
       "      <td>0.1192</td>\n",
       "      <td>0.427041</td>\n",
       "      <td>0.710034</td>\n",
       "      <td>0.962055</td>\n",
       "      <td>0.758228</td>\n",
       "    </tr>\n",
       "    <tr>\n",
       "      <th>281</th>\n",
       "      <td>EXT-100</td>\n",
       "      <td>0.1840</td>\n",
       "      <td>0.221956</td>\n",
       "      <td>0.559532</td>\n",
       "      <td>0.962055</td>\n",
       "      <td>0.758228</td>\n",
       "    </tr>\n",
       "  </tbody>\n",
       "</table>\n",
       "<p>282 rows × 6 columns</p>\n",
       "</div>"
      ],
      "text/plain": [
       "    extractorName  input_runTime(min)  input_netCannabinoids(%)  \\\n",
       "0       Extrakt A              0.0240                  0.937256   \n",
       "1       Extrakt A              0.0648                  0.937256   \n",
       "2       Extrakt A              0.0232                  0.795424   \n",
       "3       Extrakt A              0.0208                  0.937256   \n",
       "4       Extrakt A              0.0184                  0.721148   \n",
       "..            ...                 ...                       ...   \n",
       "277       EXT-100              0.1328                  0.386271   \n",
       "278       EXT-100              0.1336                  0.221956   \n",
       "279       EXT-100              0.1696                  0.504858   \n",
       "280       EXT-100              0.1192                  0.427041   \n",
       "281       EXT-100              0.1840                  0.221956   \n",
       "\n",
       "     output_cannabinoids(%)  pressure(bar)  temperature(C)  \n",
       "0                  0.574416       0.982033        0.874254  \n",
       "1                  0.875693       0.987882        1.000000  \n",
       "2                  0.706463       0.991433        0.867377  \n",
       "3                  0.570629       0.984145        0.551891  \n",
       "4                  0.750400       0.985826        0.812653  \n",
       "..                      ...            ...             ...  \n",
       "277                0.697898       0.962055        0.758228  \n",
       "278                0.779615       0.962055        0.758228  \n",
       "279                0.633378       0.298019        0.758228  \n",
       "280                0.710034       0.962055        0.758228  \n",
       "281                0.559532       0.962055        0.758228  \n",
       "\n",
       "[282 rows x 6 columns]"
      ]
     },
     "execution_count": 76,
     "metadata": {},
     "output_type": "execute_result"
    }
   ],
   "source": [
    "df_norm"
   ]
  },
  {
   "cell_type": "code",
   "execution_count": 77,
   "metadata": {},
   "outputs": [],
   "source": [
    "X1 = df_norm.drop(columns=['output_cannabinoids(%)','extractorName'])\n",
    "y1 = df_norm['output_cannabinoids(%)']"
   ]
  },
  {
   "cell_type": "code",
   "execution_count": 78,
   "metadata": {},
   "outputs": [],
   "source": [
    "estimator = svm.SVR(kernel=\"linear\")\n",
    "# using the n_features_to_select as 2\n",
    "rfe1 = RFE(estimator,n_features_to_select =2, step=1)\n",
    "rfe_fit1=rfe1.fit(X1,y1)"
   ]
  },
  {
   "cell_type": "code",
   "execution_count": 79,
   "metadata": {},
   "outputs": [],
   "source": [
    "df3_features = pd.DataFrame(rfe_fit1.support_)\n",
    "df3_columns = pd.DataFrame(X1.columns)\n",
    "df3_ranks = pd.DataFrame(rfe_fit1.ranking_)\n",
    "featureScores_rfe1 = pd.concat([df3_columns,df3_features,df3_ranks],axis=1)\n",
    "featureScores_rfe1.columns = ['features','Support', 'Ranking'] "
   ]
  },
  {
   "cell_type": "code",
   "execution_count": 80,
   "metadata": {},
   "outputs": [
    {
     "data": {
      "text/html": [
       "<div>\n",
       "<style scoped>\n",
       "    .dataframe tbody tr th:only-of-type {\n",
       "        vertical-align: middle;\n",
       "    }\n",
       "\n",
       "    .dataframe tbody tr th {\n",
       "        vertical-align: top;\n",
       "    }\n",
       "\n",
       "    .dataframe thead th {\n",
       "        text-align: right;\n",
       "    }\n",
       "</style>\n",
       "<table border=\"1\" class=\"dataframe\">\n",
       "  <thead>\n",
       "    <tr style=\"text-align: right;\">\n",
       "      <th></th>\n",
       "      <th>features</th>\n",
       "      <th>Support</th>\n",
       "      <th>Ranking</th>\n",
       "    </tr>\n",
       "  </thead>\n",
       "  <tbody>\n",
       "    <tr>\n",
       "      <th>0</th>\n",
       "      <td>input_runTime(min)</td>\n",
       "      <td>True</td>\n",
       "      <td>1</td>\n",
       "    </tr>\n",
       "    <tr>\n",
       "      <th>1</th>\n",
       "      <td>input_netCannabinoids(%)</td>\n",
       "      <td>False</td>\n",
       "      <td>2</td>\n",
       "    </tr>\n",
       "    <tr>\n",
       "      <th>2</th>\n",
       "      <td>pressure(bar)</td>\n",
       "      <td>False</td>\n",
       "      <td>3</td>\n",
       "    </tr>\n",
       "    <tr>\n",
       "      <th>3</th>\n",
       "      <td>temperature(C)</td>\n",
       "      <td>True</td>\n",
       "      <td>1</td>\n",
       "    </tr>\n",
       "  </tbody>\n",
       "</table>\n",
       "</div>"
      ],
      "text/plain": [
       "                   features  Support  Ranking\n",
       "0        input_runTime(min)     True        1\n",
       "1  input_netCannabinoids(%)    False        2\n",
       "2             pressure(bar)    False        3\n",
       "3            temperature(C)     True        1"
      ]
     },
     "execution_count": 80,
     "metadata": {},
     "output_type": "execute_result"
    }
   ],
   "source": [
    "featureScores_rfe1"
   ]
  },
  {
   "cell_type": "markdown",
   "metadata": {},
   "source": [
    "So when i choose features to select as 2, it can be seen that pressure  and cannabinoids input is not significant in the combination of features that can be used for modeling. But before coming to any conclusion, we should also check that the size of the dataset provided is very much less. So it can be possible that RFE method requires some more data to learn or generalize the pattern in the dataset. So the above feature selection technique can be implemented correctly with somewhat more dataset or we can also use the expertise of one having domain knowledge. As far as the individual features are concerned, we have seen from the p-value and the correlation score barplot, the features are important for the target- cannbinoids output. "
   ]
  },
  {
   "cell_type": "markdown",
   "metadata": {},
   "source": [
    "Now I use linear regression model to check the prediction. I have used all the feature columns for the model. If we too lessen the input feature columns for the model, then the model may try to overfit as datasize is less. Also due to less size of dataset, even if we provide the features that are not significant for model, there wont be any redundancy of data. "
   ]
  },
  {
   "cell_type": "code",
   "execution_count": 81,
   "metadata": {},
   "outputs": [],
   "source": [
    "from sklearn.metrics import mean_squared_error, r2_score\n",
    "from sklearn.model_selection import train_test_split\n",
    "X_train, X_test, y_train, y_test = train_test_split(X, y, test_size=0.3, random_state=18)"
   ]
  },
  {
   "cell_type": "code",
   "execution_count": 82,
   "metadata": {},
   "outputs": [],
   "source": [
    "model=lr.fit(X_train, y_train)\n",
    "#predicting using the test set\n",
    "y_pred = model.predict(X_test)"
   ]
  },
  {
   "cell_type": "code",
   "execution_count": 83,
   "metadata": {},
   "outputs": [
    {
     "name": "stdout",
     "output_type": "stream",
     "text": [
      "Coefficients: \n",
      " [ 0.1139298   0.09642359  0.08279672 -0.56138595  0.26823584  0.33629865\n",
      "  0.11338296 -0.00784893 -0.1555216 ]\n",
      "Mean squared error: 0.01\n",
      "Coefficient of determination: 0.07\n"
     ]
    }
   ],
   "source": [
    "# The coefficients\n",
    "print('Coefficients: \\n', model.coef_)\n",
    "# The mean squared error\n",
    "print('Mean squared error: %.2f'% mean_squared_error(y_test,y_pred))\n",
    "# The coefficient of determination(R-square)\n",
    "print('Coefficient of determination: %.2f'% r2_score(y_test,y_pred))"
   ]
  },
  {
   "cell_type": "markdown",
   "metadata": {},
   "source": [
    "So our mean squared error MSE is 10% and the R-square value is high which is 80% ( we have normalized our dataset, so the mse and R-square value is shown as seen above). "
   ]
  },
  {
   "cell_type": "code",
   "execution_count": 84,
   "metadata": {},
   "outputs": [
    {
     "data": {
      "text/html": [
       "<div>\n",
       "<style scoped>\n",
       "    .dataframe tbody tr th:only-of-type {\n",
       "        vertical-align: middle;\n",
       "    }\n",
       "\n",
       "    .dataframe tbody tr th {\n",
       "        vertical-align: top;\n",
       "    }\n",
       "\n",
       "    .dataframe thead th {\n",
       "        text-align: right;\n",
       "    }\n",
       "</style>\n",
       "<table border=\"1\" class=\"dataframe\">\n",
       "  <thead>\n",
       "    <tr style=\"text-align: right;\">\n",
       "      <th></th>\n",
       "      <th>Actual</th>\n",
       "      <th>Predicted</th>\n",
       "    </tr>\n",
       "  </thead>\n",
       "  <tbody>\n",
       "    <tr>\n",
       "      <th>163</th>\n",
       "      <td>0.625628</td>\n",
       "      <td>0.675964</td>\n",
       "    </tr>\n",
       "    <tr>\n",
       "      <th>103</th>\n",
       "      <td>0.735538</td>\n",
       "      <td>0.732812</td>\n",
       "    </tr>\n",
       "    <tr>\n",
       "      <th>97</th>\n",
       "      <td>0.475955</td>\n",
       "      <td>0.682951</td>\n",
       "    </tr>\n",
       "    <tr>\n",
       "      <th>269</th>\n",
       "      <td>0.710034</td>\n",
       "      <td>0.715809</td>\n",
       "    </tr>\n",
       "    <tr>\n",
       "      <th>57</th>\n",
       "      <td>0.862671</td>\n",
       "      <td>0.722714</td>\n",
       "    </tr>\n",
       "    <tr>\n",
       "      <th>...</th>\n",
       "      <td>...</td>\n",
       "      <td>...</td>\n",
       "    </tr>\n",
       "    <tr>\n",
       "      <th>18</th>\n",
       "      <td>0.654983</td>\n",
       "      <td>0.856608</td>\n",
       "    </tr>\n",
       "    <tr>\n",
       "      <th>87</th>\n",
       "      <td>0.573058</td>\n",
       "      <td>0.666373</td>\n",
       "    </tr>\n",
       "    <tr>\n",
       "      <th>271</th>\n",
       "      <td>0.750803</td>\n",
       "      <td>0.729779</td>\n",
       "    </tr>\n",
       "    <tr>\n",
       "      <th>135</th>\n",
       "      <td>0.784131</td>\n",
       "      <td>0.698488</td>\n",
       "    </tr>\n",
       "    <tr>\n",
       "      <th>149</th>\n",
       "      <td>0.780564</td>\n",
       "      <td>0.749253</td>\n",
       "    </tr>\n",
       "  </tbody>\n",
       "</table>\n",
       "<p>85 rows × 2 columns</p>\n",
       "</div>"
      ],
      "text/plain": [
       "       Actual  Predicted\n",
       "163  0.625628   0.675964\n",
       "103  0.735538   0.732812\n",
       "97   0.475955   0.682951\n",
       "269  0.710034   0.715809\n",
       "57   0.862671   0.722714\n",
       "..        ...        ...\n",
       "18   0.654983   0.856608\n",
       "87   0.573058   0.666373\n",
       "271  0.750803   0.729779\n",
       "135  0.784131   0.698488\n",
       "149  0.780564   0.749253\n",
       "\n",
       "[85 rows x 2 columns]"
      ]
     },
     "execution_count": 84,
     "metadata": {},
     "output_type": "execute_result"
    }
   ],
   "source": [
    "#comparing the actual output values with the predicted ones\n",
    "df = pd.DataFrame({'Actual': y_test, 'Predicted': y_pred})\n",
    "df"
   ]
  },
  {
   "cell_type": "code",
   "execution_count": 85,
   "metadata": {},
   "outputs": [
    {
     "data": {
      "image/png": "[encoded data removed]",
      "text/plain": [
       "<Figure size 864x576 with 1 Axes>"
      ]
     },
     "metadata": {
      "needs_background": "light"
     },
     "output_type": "display_data"
    }
   ],
   "source": [
    "#plotting the actual vs predicted\n",
    "df_plot = df.head(25)\n",
    "df_plot.plot(kind='bar',figsize=(12,8))\n",
    "plt.grid(which='major', linestyle='-', linewidth='0.5', color='green')\n",
    "plt.grid(which='minor', linestyle=':', linewidth='0.5', color='black')\n",
    "plt.show()"
   ]
  },
  {
   "cell_type": "markdown",
   "metadata": {},
   "source": [
    "As the requirement in the problem statement to run the linear regression, We can see that the linear regression model has returned good results on the test dataset. However here I have made an assumption that the data has a linear relationship. We need to have a good amount of data to get an overall good prediction. The features used here have a high correlation with the target feature as seen from the p-value or correlation score barplot. However there was shortcoming when tested for RFE. I further checked for the accuracy of the prediction using Random Forest."
   ]
  },
  {
   "cell_type": "code",
   "execution_count": 86,
   "metadata": {},
   "outputs": [
    {
     "data": {
      "text/plain": [
       "RandomForestRegressor(bootstrap=True, ccp_alpha=0.0, criterion='mse',\n",
       "                      max_depth=None, max_features='auto', max_leaf_nodes=None,\n",
       "                      max_samples=None, min_impurity_decrease=0.0,\n",
       "                      min_impurity_split=None, min_samples_leaf=1,\n",
       "                      min_samples_split=2, min_weight_fraction_leaf=0.0,\n",
       "                      n_estimators=10, n_jobs=None, oob_score=False,\n",
       "                      random_state=18, verbose=0, warm_start=False)"
      ]
     },
     "execution_count": 86,
     "metadata": {},
     "output_type": "execute_result"
    }
   ],
   "source": [
    "from sklearn.ensemble import RandomForestRegressor\n",
    "reg =RandomForestRegressor(n_estimators =10, random_state =18)\n",
    "reg.fit(X_train,y_train)"
   ]
  },
  {
   "cell_type": "code",
   "execution_count": 87,
   "metadata": {},
   "outputs": [],
   "source": [
    "y_rf = reg.predict(X_test)"
   ]
  },
  {
   "cell_type": "code",
   "execution_count": 88,
   "metadata": {},
   "outputs": [
    {
     "data": {
      "text/html": [
       "<div>\n",
       "<style scoped>\n",
       "    .dataframe tbody tr th:only-of-type {\n",
       "        vertical-align: middle;\n",
       "    }\n",
       "\n",
       "    .dataframe tbody tr th {\n",
       "        vertical-align: top;\n",
       "    }\n",
       "\n",
       "    .dataframe thead th {\n",
       "        text-align: right;\n",
       "    }\n",
       "</style>\n",
       "<table border=\"1\" class=\"dataframe\">\n",
       "  <thead>\n",
       "    <tr style=\"text-align: right;\">\n",
       "      <th></th>\n",
       "      <th>Actual</th>\n",
       "      <th>Predicted</th>\n",
       "    </tr>\n",
       "  </thead>\n",
       "  <tbody>\n",
       "    <tr>\n",
       "      <th>163</th>\n",
       "      <td>0.625628</td>\n",
       "      <td>0.622106</td>\n",
       "    </tr>\n",
       "    <tr>\n",
       "      <th>103</th>\n",
       "      <td>0.735538</td>\n",
       "      <td>0.750421</td>\n",
       "    </tr>\n",
       "    <tr>\n",
       "      <th>97</th>\n",
       "      <td>0.475955</td>\n",
       "      <td>0.567209</td>\n",
       "    </tr>\n",
       "    <tr>\n",
       "      <th>269</th>\n",
       "      <td>0.710034</td>\n",
       "      <td>0.778105</td>\n",
       "    </tr>\n",
       "    <tr>\n",
       "      <th>57</th>\n",
       "      <td>0.862671</td>\n",
       "      <td>0.824022</td>\n",
       "    </tr>\n",
       "    <tr>\n",
       "      <th>...</th>\n",
       "      <td>...</td>\n",
       "      <td>...</td>\n",
       "    </tr>\n",
       "    <tr>\n",
       "      <th>18</th>\n",
       "      <td>0.654983</td>\n",
       "      <td>0.734189</td>\n",
       "    </tr>\n",
       "    <tr>\n",
       "      <th>87</th>\n",
       "      <td>0.573058</td>\n",
       "      <td>0.697155</td>\n",
       "    </tr>\n",
       "    <tr>\n",
       "      <th>271</th>\n",
       "      <td>0.750803</td>\n",
       "      <td>0.682479</td>\n",
       "    </tr>\n",
       "    <tr>\n",
       "      <th>135</th>\n",
       "      <td>0.784131</td>\n",
       "      <td>0.787261</td>\n",
       "    </tr>\n",
       "    <tr>\n",
       "      <th>149</th>\n",
       "      <td>0.780564</td>\n",
       "      <td>0.737038</td>\n",
       "    </tr>\n",
       "  </tbody>\n",
       "</table>\n",
       "<p>85 rows × 2 columns</p>\n",
       "</div>"
      ],
      "text/plain": [
       "       Actual  Predicted\n",
       "163  0.625628   0.622106\n",
       "103  0.735538   0.750421\n",
       "97   0.475955   0.567209\n",
       "269  0.710034   0.778105\n",
       "57   0.862671   0.824022\n",
       "..        ...        ...\n",
       "18   0.654983   0.734189\n",
       "87   0.573058   0.697155\n",
       "271  0.750803   0.682479\n",
       "135  0.784131   0.787261\n",
       "149  0.780564   0.737038\n",
       "\n",
       "[85 rows x 2 columns]"
      ]
     },
     "execution_count": 88,
     "metadata": {},
     "output_type": "execute_result"
    }
   ],
   "source": [
    "#comparing the actual output values with the predicted ones\n",
    "df_rf = pd.DataFrame({'Actual': y_test, 'Predicted': y_rf})\n",
    "df_rf"
   ]
  },
  {
   "cell_type": "code",
   "execution_count": 89,
   "metadata": {},
   "outputs": [],
   "source": [
    "# Calculating the absolute errors\n",
    "errors = abs(y_rf - y_test)"
   ]
  },
  {
   "cell_type": "code",
   "execution_count": 90,
   "metadata": {},
   "outputs": [
    {
     "name": "stdout",
     "output_type": "stream",
     "text": [
      "Accuracy: 92.02 %.\n"
     ]
    }
   ],
   "source": [
    "# Calculating the mean absolute percentage error \n",
    "mae = 100 * (errors / y_test)\n",
    "# displaying the  accuracy\n",
    "accuracy = 100 - np.mean(mae)\n",
    "print('Accuracy:', round(accuracy, 2), '%.')"
   ]
  },
  {
   "cell_type": "markdown",
   "metadata": {},
   "source": [
    "Random forest has worked well, with an accuracy of around 92%. Since we have taken all the features for the RandomForest model and are getting the good accuracy, we can conclude that the features are important for predicting the cannabinoids output. For the confusion in RFE, i think we should consider a large datatset. However we could also check for cross validation and hypertune the model for better accuracy."
   ]
  },
  {
   "cell_type": "markdown",
   "metadata": {},
   "source": [
    "Overall I hope i did some meaningful work to get the important features and build the model for predicting the cannabinoids output. It was a good learning experience and I got to learn new things in the process of doing this assignment."
   ]
  }
 ],
 "metadata": {
  "kernelspec": {
   "display_name": "Python 3",
   "language": "python",
   "name": "python3"
  },
  "language_info": {
   "codemirror_mode": {
    "name": "ipython",
    "version": 3
   },
   "file_extension": ".py",
   "mimetype": "text/x-python",
   "name": "python",
   "nbconvert_exporter": "python",
   "pygments_lexer": "ipython3",
   "version": "3.7.6"
  }
 },
 "nbformat": 4,
 "nbformat_minor": 2
}
